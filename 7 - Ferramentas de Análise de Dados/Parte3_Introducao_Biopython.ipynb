{
 "cells": [
  {
   "cell_type": "markdown",
   "metadata": {},
   "source": [
    "# Introdução à biblioteca BioPython\n",
    "\n",
    "Nesse exemplo, usamos as bibliotecas Biopython, Pandas e Matplotlib para explorar e gerar visualizações dos dados de um genoma bacteriano.\n",
    "\n",
    "## 1. Importando bibliotecas\n",
    "\n",
    "As bibliotecas de Python que usaremos neste exercício são:\n",
    "\n",
    "* numpy      : biblioteca para computação científica\n",
    "* pandas     : biblioteca base para análise manipulação e análise de dados\n",
    "* Bio        : Biopython (base)\n",
    "* matplotlib : biblioteca para preparação de gráficos e outras representações visuais\n",
    "\n",
    "Abaixo, a linha `%matplolib inline` informa que os gráficos da biblioteca matplotlib devem ser exibidos dentro do Jupyter e sem a necessidade de chamadas explícitas para o método `plt.show()`."
   ]
  },
  {
   "cell_type": "code",
   "execution_count": null,
   "metadata": {},
   "outputs": [],
   "source": [
    "import Bio\n",
    "import pandas as pd\n",
    "import numpy as np\n",
    "import matplotlib as mpl\n",
    "import matplotlib.pyplot as plt\n",
    "%matplotlib inline"
   ]
  },
  {
   "cell_type": "markdown",
   "metadata": {},
   "source": [
    "No caso específico das análises propostas nesse tutorial, será mais prático importar os módulos de BioPython que implementam algumas rotinas de processamento e análise de sequências:"
   ]
  },
  {
   "cell_type": "code",
   "execution_count": null,
   "metadata": {},
   "outputs": [],
   "source": [
    "from Bio import SeqIO\n",
    "from Bio import SeqUtils"
   ]
  },
  {
   "cell_type": "markdown",
   "metadata": {},
   "source": [
    "## 2. Definindo o caminho dos dados\n",
    "\n",
    "Começamos carregando os contigs do genoma de *Klebsiella pneumoniae*, geradodos na aula de montagem de genomas ([Aula 4](https://edisciplinas.usp.br/course/view.php?id=79135#section-4)). Esse arquivo contém as sequências de 1788 contigs, de comprimentos diferentes, que serão processados usando a biblioteca BioPython. Os resultados desse processamento serão armazendos em um dataframe Pandas para processamento posterior."
   ]
  },
  {
   "cell_type": "markdown",
   "metadata": {},
   "source": [
    "## 3. Carregando as sequências (BioPython)\n",
    "\n",
    "Começamos abrindo o arquivo FASTA para que o BioPython possa processá-lo."
   ]
  },
  {
   "cell_type": "code",
   "execution_count": null,
   "metadata": {},
   "outputs": [],
   "source": [
    "io = SeqIO.parse('kpneu-contigs.fa',\"fasta\")"
   ]
  },
  {
   "cell_type": "markdown",
   "metadata": {},
   "source": [
    "e, em seguida, carregamos as sequências contidas no arquivo em uma lista:"
   ]
  },
  {
   "cell_type": "code",
   "execution_count": null,
   "metadata": {},
   "outputs": [],
   "source": [
    "s = []\n",
    "for x in io:\n",
    "    s.append(x)"
   ]
  },
  {
   "cell_type": "markdown",
   "metadata": {},
   "source": [
    "## 4. Explorando as sequências com BioPython\n",
    "\n",
    "Se o código acima funcionou, a variável `s` é uma lista e deve conter objetos que representam todas as sequências de contigs do genoma de _K. pneumoniae_ strain KPNIH39 (isolado SAMN03455930). Para verificar se nosso código, até esse ponto, deu certo, vamos imprimmir algumas informações sobre `s` e seu conteúdo.\n",
    "\n",
    "Comecemos verificando o número de elementos na lista `s`:"
   ]
  },
  {
   "cell_type": "code",
   "execution_count": null,
   "metadata": {},
   "outputs": [],
   "source": [
    "len(s)"
   ]
  },
  {
   "cell_type": "markdown",
   "metadata": {},
   "source": [
    "É sempre importante verificar se o resultado produzido por uma nova linha de código correponde ao esperado. Podemos fazer isso usando um comando externo, como _grep_:\n",
    "\n",
    "`grep -c \">\" kpneu-contigs.fa`\n",
    "\n",
    "que já vimos na [aula de Linux](https://edisciplinas.usp.br/course/view.php?id=79135#section-1) e que vai contar o número de sequências no arquivo de contigs.\n",
    "\n",
    "Execute o comando acima e veja se obtem o mesmo resultado.\n",
    "\n",
    "Além da verificação acima, vamos tentar visualizar o dado armazenado em um elemento de `s`.\n",
    "\n",
    "Comecemos imprimindo (*i.e.* representando como texto) __o objeto__ que representa a primeira sequência do arquivo:"
   ]
  },
  {
   "cell_type": "code",
   "execution_count": null,
   "metadata": {},
   "outputs": [],
   "source": [
    "s[0]"
   ]
  },
  {
   "cell_type": "markdown",
   "metadata": {},
   "source": [
    "Então checamos o comprimento da sequência:"
   ]
  },
  {
   "cell_type": "code",
   "execution_count": null,
   "metadata": {},
   "outputs": [],
   "source": [
    "len(s[0])"
   ]
  },
  {
   "cell_type": "markdown",
   "metadata": {},
   "source": [
    "E, já que a sequência é curta, inspecionamos a própria sequência:"
   ]
  },
  {
   "cell_type": "code",
   "execution_count": null,
   "metadata": {},
   "outputs": [],
   "source": [
    "str(s[0].seq)"
   ]
  },
  {
   "cell_type": "markdown",
   "metadata": {},
   "source": [
    "e comparamos, por inspeção, o resultado acima com a segunda linha do arquivo original, que podemos ver, na linha de comando do Linux, com o comando\n",
    "\n",
    "`less -S /databases/courses/bmp0216/2020/similaridade/kpneu-contigs.fa`\n",
    "\n",
    "Podemos testar alguns atributos e métodos da classe SeqRecord, como checar o identificador da primeira sequência:"
   ]
  },
  {
   "cell_type": "code",
   "execution_count": null,
   "metadata": {},
   "outputs": [],
   "source": [
    "s[0].id"
   ]
  },
  {
   "cell_type": "markdown",
   "metadata": {},
   "source": [
    "Para ilustrar as funções disponíveis no BioPython podemos, por exemplo, traduzir os 27 primeiros nucleotídeos da sequência `s[0]` para proteína:"
   ]
  },
  {
   "cell_type": "code",
   "execution_count": null,
   "metadata": {},
   "outputs": [],
   "source": [
    "str(s[0][0:27].translate(table=11).seq)"
   ]
  },
  {
   "cell_type": "markdown",
   "metadata": {},
   "source": [
    "O parâmetro `table=11` passado ao método `translate()` seleciona o código genético usado pelas bactérias, arqueas, mitocôndrias e cloroplastos.\n",
    "\n",
    "Note que os 27 primeiros resíduos da sequência são extraídos usando a notação de Python para listas e *strings* (`[0:27]`), aplicada sobre o objeto `s[0]`. Embora essa notação tenha sido introduzida anteriormente apenas para listas e texto (*strings*), o objeto retornado por esse código (`s[0][0:27]`), tal qual o próprio `s[0]`, é um Bio.SeqRecord, e portanto suporta o método `translate()`."
   ]
  },
  {
   "cell_type": "markdown",
   "metadata": {},
   "source": [
    "## 5. Explorando e analisando estatísticas de contigs com Biopython e Pandas\n",
    "\n",
    "Para entender melhor os dados gerados pela montagem, podemos calcular e avaliar algumas estatísticas descritivas sobre os contigs."
   ]
  },
  {
   "cell_type": "markdown",
   "metadata": {},
   "source": [
    "### 5.1 Histogramas com Biopython e Pandas.Series\n",
    "\n",
    "Usando uma _list conprehension_ podemos calcular o comprimento de todos os contigs mas, desta vez, armazenaremos o resultado em uma série da biblioteca Pandas:"
   ]
  },
  {
   "cell_type": "code",
   "execution_count": null,
   "metadata": {},
   "outputs": [],
   "source": [
    "clen = pd.Series([len(x) for x in s])"
   ]
  },
  {
   "cell_type": "markdown",
   "metadata": {},
   "source": [
    "No cálculo acima usamos a sintaxe conhecida como __*list comprehension*__ (`[ len(x) for x in s ]`) para criar a lista que convertemos em série.\n",
    "\n",
    "Esse código compacto é equivalente a\n",
    "\n",
    ">`a = []\n",
    "for x in s:\n",
    "    a.append(len(x))\n",
    "clen = pd.Series(a)\n",
    "del(a)` \n",
    "\n",
    "Vamos ver o que foi armazenado em `clen`:"
   ]
  },
  {
   "cell_type": "code",
   "execution_count": null,
   "metadata": {},
   "outputs": [],
   "source": [
    "clen"
   ]
  },
  {
   "cell_type": "markdown",
   "metadata": {},
   "source": [
    "```\n",
    "Nota: a visualização acima está truncada (\"...\" indica o truncamento).\n",
    "No entanto, nosso código funcionou pois o total de elementos na série (1788) é igual ao número de contigs.\n",
    "```\n",
    "\n",
    "Vejamos como fica a distribuição de comprimentos de contigs!\n",
    "\n",
    "Primeiro, ajustamos o tamanho das figuras para este *notebook* usando o código `mpl.rc('figure',figsize=(12.8,4.8))`.\n",
    "\n",
    "Em seguida chamamos o método `hist()` da pandas.Series (`clen`) que contém os comprimentos de cada *contig*."
   ]
  },
  {
   "cell_type": "code",
   "execution_count": null,
   "metadata": {},
   "outputs": [],
   "source": [
    "%matplotlib inline\n",
    "mpl.rc('figure',figsize=(12.8,4.8))\n",
    "clen.hist(bins=60)"
   ]
  },
  {
   "cell_type": "markdown",
   "metadata": {},
   "source": [
    "Focando nos contigs com mais de 500 pares de base de comprimento, teremos pouco mais de 10% dos contigs (181):"
   ]
  },
  {
   "cell_type": "code",
   "execution_count": null,
   "metadata": {},
   "outputs": [],
   "source": [
    "print(len(clen[clen > 500]))\n",
    "clen[clen>500].hist(bins=150)"
   ]
  },
  {
   "cell_type": "markdown",
   "metadata": {},
   "source": [
    "### 5.2 Coletando estatísticas em um _dataframe_ Pandas\n",
    "\n",
    "Como vimos acima, podemos usar um *list comprehension*, ou seja, a notação `[ x for x in list() ]` para gerar uma lista contendo os elementos `x`. Para gerar uma tabela Pandas, podemos gerar uma lista de listas:"
   ]
  },
  {
   "cell_type": "code",
   "execution_count": null,
   "metadata": {},
   "outputs": [],
   "source": [
    "a = []\n",
    "for x in s:\n",
    "    a.append([ x.id, len(x), SeqUtils.GC(x.seq) ])"
   ]
  },
  {
   "cell_type": "markdown",
   "metadata": {},
   "source": [
    "No exemplo acima calculamos, simultaneamente, o comprimento dos contigs (`len(x)`) e a proporção de guaninas e citosinas (GC%), este último usando o método `GC()` do módulo __SeqUtils__, que espera um objeto Bio.Seq ou uma *string* como argumento.\n",
    "\n",
    "A lista `a`, que contém, em cada elemento, as estatísticas para cada contig, pode ser passada para o construtor do Pandas:"
   ]
  },
  {
   "cell_type": "code",
   "execution_count": null,
   "metadata": {},
   "outputs": [],
   "source": [
    "df = pd.DataFrame(a, columns=['id','length','gc'])"
   ]
  },
  {
   "cell_type": "markdown",
   "metadata": {},
   "source": [
    "E podemos então verificar:\n",
    "\n",
    "1. Se os nomes das colunas são os esperados"
   ]
  },
  {
   "cell_type": "code",
   "execution_count": null,
   "metadata": {},
   "outputs": [],
   "source": [
    "df.columns"
   ]
  },
  {
   "cell_type": "markdown",
   "metadata": {},
   "source": [
    "2. Se o número de linhas é igual ao número de contigs"
   ]
  },
  {
   "cell_type": "code",
   "execution_count": null,
   "metadata": {},
   "outputs": [],
   "source": [
    "len(df)"
   ]
  },
  {
   "cell_type": "markdown",
   "metadata": {},
   "source": [
    "E, finalmente, indagar quais os valores das nossas estatísticas para os dez contigs mais longos:"
   ]
  },
  {
   "cell_type": "code",
   "execution_count": null,
   "metadata": {},
   "outputs": [],
   "source": [
    "df.sort_values(['length'], ascending=False).head()"
   ]
  },
  {
   "cell_type": "markdown",
   "metadata": {},
   "source": [
    "### 5.3 Selecionando sequências com base em estatísticas\n",
    "\n",
    "Podemos usar nosso dataframe para identificar, por exemplo, o contig mais longo:"
   ]
  },
  {
   "cell_type": "code",
   "execution_count": null,
   "metadata": {},
   "outputs": [],
   "source": [
    "df.length.max()"
   ]
  },
  {
   "cell_type": "code",
   "execution_count": null,
   "metadata": {},
   "outputs": [],
   "source": [
    "df[df.length == 275275]"
   ]
  },
  {
   "cell_type": "markdown",
   "metadata": {},
   "source": [
    "Fica fácil ver que o contig mais longo é o 3027, com 275275 pares de bases.\n",
    "\n",
    "__Mas onde esse contig está na lista `s`?__\n",
    "\n",
    "Lembrando que as linhas no DataFrame `df` foram carregadas na mesma ordem que as sequências na lista `s`, podemos usar o número da linha (1711) para acessar a sequência:"
   ]
  },
  {
   "cell_type": "code",
   "execution_count": null,
   "metadata": {},
   "outputs": [],
   "source": [
    "s[1711].id"
   ]
  },
  {
   "cell_type": "markdown",
   "metadata": {},
   "source": [
    "Funciona perfeitamente mas como fazer isso __sem ficar copiando os resultados dos comando anteriores__?\n",
    "\n",
    "Bem, nós já sabemos como encontrar a linha que nos interessa (`df[df.length == df.length.max()]`) mas o resultado mostra que o número que dá a posição da sequência em `s` é o número da linha em `df`. __Como acessar esse número__?\n",
    "\n",
    "O número 1711 é o __índice__ da linha referente ao contig 3027 no DataFrame `df`.\n",
    "\n",
    "O índice é um objeto `pandas.Index`, que identifica a linha mas não pode ser usado para identificar um elemento na lista `s`.\n",
    "\n",
    "Podemos, porém, converter o índice numa coluna usando o método `tolist()`, cuja função é converter o índice unma lista que, nesse caso, terá apenas um elemento."
   ]
  },
  {
   "cell_type": "code",
   "execution_count": null,
   "metadata": {},
   "outputs": [],
   "source": [
    "df[df.length == df.length.max()].index.tolist()"
   ]
  },
  {
   "cell_type": "markdown",
   "metadata": {},
   "source": [
    "e por fim acessamos o primeiro e único elemento dessa lista usando o índice:"
   ]
  },
  {
   "cell_type": "code",
   "execution_count": null,
   "metadata": {},
   "outputs": [],
   "source": [
    "df[df.length == df.length.max()].index.tolist()[0]"
   ]
  },
  {
   "cell_type": "markdown",
   "metadata": {},
   "source": [
    "e finalmente combinamos tudo para acessar o elemento da lista `s` que armazena o Bio.SeqRecord do contig mais longo:"
   ]
  },
  {
   "cell_type": "code",
   "execution_count": null,
   "metadata": {},
   "outputs": [],
   "source": [
    "s[df[df.length == df.length.max()].index.tolist()[0]].id"
   ]
  },
  {
   "cell_type": "code",
   "execution_count": null,
   "metadata": {},
   "outputs": [],
   "source": [
    "%timeit s[df[df.length == df.length.max()].index.tolist()[0]].seq"
   ]
  },
  {
   "cell_type": "markdown",
   "metadata": {},
   "source": [
    "Embora ilusre bem como funciona o encadeamento de objetos e as funções do Pandas, o exemplo acima depende de como o dado foi organizado na memória do programa.\n",
    "\n",
    "Nesse caso, termos guardado as sequências na lista `s` torna necessário todos os passos acima para acessar uma sequência de escolha mas se, aproveitando a flexibilidade do Pandas, adicionarmos as sequências a uma colunas, podemos simplificar o processo.\n",
    "\n",
    "Como sabemos que a lista e as linhas da tabela estão na mesma ordem, o processo é simples:"
   ]
  },
  {
   "cell_type": "code",
   "execution_count": null,
   "metadata": {},
   "outputs": [],
   "source": [
    "df['obj'] = s\n",
    "df.loc[df.length == df.length.max(),'obj'].iloc[0].id"
   ]
  },
  {
   "cell_type": "code",
   "execution_count": null,
   "metadata": {},
   "outputs": [],
   "source": [
    "%timeit df.loc[df.length == df.length.max(),'obj'].iloc[0].seq"
   ]
  },
  {
   "cell_type": "markdown",
   "metadata": {},
   "source": [
    "Note que o `iloc[0]` é necessário pelo mesmo motivo que o `tolist()[0]` da opção anterior: o critério `df.length == df.length.max()` pode retornar mais de uma linha e, como desejamos um escalar\n",
    "\n",
    "A sintaxe acima é um pouco mais elegante e fácil de ler que a anterior mas sua real vantagem aparece no significativamente menor de execução. Esse tipo de comparações será necessária sempre que o volume dos dados justificar a otimização dos procedimentos."
   ]
  },
  {
   "cell_type": "markdown",
   "metadata": {},
   "source": [
    "### 5.4 Explorando a variação no conteúdo de GC%\n",
    "\n",
    "A função GC do módulo SeqUtils calculou a proporção de resíduos de guanina (G) e citosina (C) para cada contig.\n",
    "\n",
    "Usando a notação de atributos, podemos extrair os valores nessa coluna como um Pandas.Series e calcular sua média:"
   ]
  },
  {
   "cell_type": "code",
   "execution_count": null,
   "metadata": {},
   "outputs": [],
   "source": [
    "df.gc.mean()"
   ]
  },
  {
   "cell_type": "markdown",
   "metadata": {},
   "source": [
    "Mais interessante ainda é comparar os valores de GC% com o comprimento dos contigs:"
   ]
  },
  {
   "cell_type": "code",
   "execution_count": null,
   "metadata": {
    "scrolled": true
   },
   "outputs": [],
   "source": [
    "plt.scatter(df.length,df.gc)"
   ]
  },
  {
   "cell_type": "markdown",
   "metadata": {},
   "source": [
    "O gráfico acima mostra não apenas que a maioria dos contigs, especialmente os mais longos, possuem valores próximos da média mas que a variância do GC% é muito maior para os contigs curtos. Mostra também a presença de pelo menos um *outlier* (GC < 45%) entre os contigs com mais de 10000 pares de bases."
   ]
  },
  {
   "cell_type": "code",
   "execution_count": null,
   "metadata": {},
   "outputs": [],
   "source": [
    "df[(df.length > 10000) & (df.gc < 45)]"
   ]
  },
  {
   "cell_type": "markdown",
   "metadata": {},
   "source": [
    "Por desviar da composição de bases (GC%) típica deste genoma, o contig 3043 corresponde, muito provavelmente, a uma ilha genômica ou plasmídeo, ou seja, uma região relacionada a elementos móveis e que pode ter se originado por transferência lateral, merecendo ser investigado à parte."
   ]
  },
  {
   "cell_type": "markdown",
   "metadata": {},
   "source": [
    "## 6. Analisando um genoma anotado (Biopython e Pandas)\n",
    "\n",
    "O genoma de *K. pneumoniae* str. KPNIH39, cuja montagem analisamos nos itens anteriores, foi completamente montado e submetido ao banco de dados GenBank, de onde pode ser obtido junto com a anotação de todos os seus genes.\n",
    "\n",
    "Vamos carregar uma cópia local do cromossomo dessa bactéria, já anotado, e ver que tipos de genes ele contém.\n",
    "\n",
    "Primeiramente, carregamos o genoma usando BioPython (nesse caso, o arquivo GBK contém apenas uma sequência):"
   ]
  },
  {
   "cell_type": "code",
   "execution_count": null,
   "metadata": {},
   "outputs": [],
   "source": [
    "io = SeqIO.parse(\"CP014762.1.gbk\",\"genbank\")\n",
    "k = next(io)"
   ]
  },
  {
   "cell_type": "markdown",
   "metadata": {},
   "source": [
    "E checamos seu comprimento:"
   ]
  },
  {
   "cell_type": "code",
   "execution_count": null,
   "metadata": {},
   "outputs": [],
   "source": [
    "len(k)"
   ]
  },
  {
   "cell_type": "markdown",
   "metadata": {},
   "source": [
    "Você pode verificar se esse é o comprimento esperado usando o comando `less`, em um terminal, para visualizar a primeira linha do arquivo:\n",
    "\n",
    "`less CP014762.1.gbk`\n",
    "\n",
    "### 6.1 Convertendo dados contidos no objeto Biopython em Pandas\n",
    "\n",
    "O código abaixo extrai a anotação sobre genes codificantes (CDS) do objeto Bio.SeqRecord, produzido pelo SeqIO, e retorna um dataframe Pandas contendo essa informação.\n",
    "\n",
    "Ele __não precisa ser compreendido completamente__, razão pela qual o disponibilizamos na forma de uma função."
   ]
  },
  {
   "cell_type": "code",
   "execution_count": null,
   "metadata": {},
   "outputs": [],
   "source": [
    "def seqrecord_to_pandas(k):\n",
    "    a = []\n",
    "    for f in k.features:\n",
    "        if f.type == \"CDS\":\n",
    "            locus  = f.qualifiers['locus_tag'][0]\n",
    "            ftype  = f.type\n",
    "            start  = f.location.start\n",
    "            end    = f.location.end\n",
    "            strand = f.location.strand\n",
    "            if 'tanslation' in f.qualifiers:\n",
    "                plen = len(f.qualifiers['translation'][0])\n",
    "            else:\n",
    "                plen = 0\n",
    "            if 'product' in f.qualifiers:\n",
    "                product = f.qualifiers['product'][0]\n",
    "            else:\n",
    "                product = \"unannotated\"\n",
    "            a.append([locus,ftype,start,end,strand,plen,product])\n",
    "    p = pd.DataFrame(a, columns = ['locus','type','start','end','strand','plen','product'])\n",
    "    return(p)"
   ]
  },
  {
   "cell_type": "markdown",
   "metadata": {},
   "source": [
    "Explicação da função `seqrecord_to_pandas` (__leitura opcional__):\n",
    "\n",
    "Toda a anotação sobre os genes está contida no atributo `features` do objeto SeqRecord. O atributo `features` contém uma lista, cujos elementos são objetos da classe Bio.SeqFeature (variável `f`), cada qual corresponde a um gene no genoma. O atributo `qualifiers` de cada Bio.SeqFeature contém um dicionário com as anotações (função, etc) dos genes. O Bio.SeqFeature contém também um outro objeto, Bio.Location, que armazena as coordenadas do gene no genoma.\n",
    "\n",
    "O código acima, portanto, varre uma estrutura de dados __hierárquica__, muito complexa, e representa os dados numa __forma tabular__ (Pandas), mais fácil de traballhar.\n",
    "\n",
    "Vamos executar essa função e checar se funcionou:"
   ]
  },
  {
   "cell_type": "code",
   "execution_count": null,
   "metadata": {},
   "outputs": [],
   "source": [
    "p = seqrecord_to_pandas(k)\n",
    "p.head()"
   ]
  },
  {
   "cell_type": "markdown",
   "metadata": {},
   "source": [
    "### 6.2 Estatísticas da anotação dos genes\n",
    "\n",
    "Qual seria as dez funções mais comuns entre os genes codificantes no genoma de *K pneumoniae*?\n",
    "\n",
    "Para responder essa pergunta, vamos contar o número de genes por função (coluna produto) usando `groupby` e contando o número de identificadores de genes (coluna *locus*):"
   ]
  },
  {
   "cell_type": "code",
   "execution_count": null,
   "metadata": {},
   "outputs": [],
   "source": [
    "p.groupby('product').agg({'locus':'nunique'}).sort_values(['locus'], ascending=False).head()"
   ]
  },
  {
   "cell_type": "markdown",
   "metadata": {},
   "source": [
    "### 6.3 Composição do cromossomo de *K. pneumoniae* KPNIH39\n",
    "\n",
    "Na seção 5 exploramos a composição (GC%) dos contigs obtidos na montagem do genoma.\n",
    "\n",
    "Esse genoma possue, na verdade, um cromossomo, de 5Mbp, e três plasmídeos, de tamanho entre 36000 e 285000 pares de bases.\n",
    "\n",
    "__Questão__: qual seria o GC% do cromossomo, principal replicon desse organismo, e como se compara à composição dos contigs?"
   ]
  },
  {
   "cell_type": "code",
   "execution_count": null,
   "metadata": {},
   "outputs": [],
   "source": [
    "SeqUtils.GC(k.seq)"
   ]
  },
  {
   "cell_type": "markdown",
   "metadata": {},
   "source": [
    "O conteúdo de GC dos contigs já foi calculado, no item 5.4, usando a fórmula"
   ]
  },
  {
   "cell_type": "code",
   "execution_count": null,
   "metadata": {},
   "outputs": [],
   "source": [
    "df.gc.mean()"
   ]
  },
  {
   "cell_type": "markdown",
   "metadata": {},
   "source": [
    "A diferença entre os dois valores se deve, na maior parte, à presença dos plasmídeos entre os contigs da nossa montagem e, em menor escala, à presença de pequenos contigs que não pertencem ao genoma de *K. pneumoniae* mas permanecem nos resultados da montagem automática, como contaminação.\n",
    "\n",
    "Apesar disso, os dois valores são muito próximos, evidenciando a qualidade da montagem."
   ]
  },
  {
   "cell_type": "markdown",
   "metadata": {},
   "source": [
    "### 6.4 GC skew do cromossomo de *K. pneumoniae* (Biopython e Matplotlib)\n",
    "\n",
    "O cromossomo CP014762.1 é um cromossomo bacteriano circular e possui as assinaturas típicas de viéses de composição que marcam a posição dos sítios de início e término de replicação em muitas espécies de bactérias. Tais assinaturas foram extensamente estudadas por vários autores e a medida conhecida como *GC skew* e definida como a razão ($(G-C)/(G+C)$), onde as letras G e C correpondem à proporção (frequência relativa ou percentual) das bases guanina e citosina. O *GC skew* é a medida de composição do DNA mais frequentemente utilizada para evidenciar as diferenças de composição entre regiões de uma mesma molécula de DNA. Um exemplo de tais diferenças são as causadas por variações no viés mutacional das diferentes fitas do DNA (ver discussão nesse [artigo](https://www.cell.com/trends/microbiology/fulltext/S0966-842X(99)01541-3)).\n",
    "\n",
    "Essa medida está implementada no módulo Bio.SeqUtils e pode ser calculada e visualizada, para o genoma de *K. pneumoniae* que armazenamos na variável `k`, usando o código abaixo:"
   ]
  },
  {
   "cell_type": "code",
   "execution_count": null,
   "metadata": {},
   "outputs": [],
   "source": [
    "window = 10000\n",
    "y = SeqUtils.GC_skew(k.seq,window)\n",
    "x = range(1,(len(y))*window,window)\n",
    "plt.plot(x,y)\n",
    "plt.hlines([0.03,0.0,-0.03], xmin=0, xmax=len(k.seq), linestyles=\"dashed\", colors=[\"red\",\"black\",\"green\"])"
   ]
  },
  {
   "cell_type": "markdown",
   "metadata": {},
   "source": [
    "Nesse exemplo, dividimos o cromossomo em fragmentos de 10000 pares de base (window), sem sobreposição, e calculamos o *GC skew* em cada fragmento contra a posição desse fragmento (linha azul). A linhas pontilhadas vermelha e verde indicam a posição aproximada da média do *GC skew* em cada parte do genoma.\n",
    "\n",
    "A posição on o valor de *GC skew* passa de positiva para negativa, localizada um pouco depois da metade do comprimento do cromossomo, correponde à região do término de replicação. A região da origem também mostra uma mudança abrupta no valor do *GC skew* (diferençna entre o começo e o fim do genoma), mas a visualização não é tão clara pois a origem de replicação foi escolhida como a posição 1 do cromossomo, nessa representação linearizada."
   ]
  }
 ],
 "metadata": {
  "kernelspec": {
   "display_name": "Python 3",
   "language": "python",
   "name": "python3"
  },
  "language_info": {
   "codemirror_mode": {
    "name": "ipython",
    "version": 3
   },
   "file_extension": ".py",
   "mimetype": "text/x-python",
   "name": "python",
   "nbconvert_exporter": "python",
   "pygments_lexer": "ipython3",
   "version": "3.7.5"
  }
 },
 "nbformat": 4,
 "nbformat_minor": 2
}
