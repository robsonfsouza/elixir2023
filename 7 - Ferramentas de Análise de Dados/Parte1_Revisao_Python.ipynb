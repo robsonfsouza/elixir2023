{
 "cells": [
  {
   "cell_type": "markdown",
   "metadata": {},
   "source": [
    "# Revisão da linguagem de programação Python\n",
    "\n",
    "Nesse documento vamos apenas revisar os conceitos básicos da linguagem e da sua sintaxe necessários para podermos trabalhar com Pandas e Jupyter.\n",
    "\n",
    "## Tópicos\n",
    "\n",
    "1. [Jupyter NoteBook](#jupyter)\n",
    "    1. [Inicialização](#inicializacao)\n",
    "    2. [Teclas](#teclas)\n",
    "    3. [Estado da célula](#celula)\n",
    "        1. [Executando](#executando)\n",
    "        2. [Inativa](#inativa)\n",
    "    4. [Resultado](#resultado)\n",
    "2. [A linguagem Python](#python)\n",
    "    1. [Tipos de valores](#valores)\n",
    "        1. [Texto (*strings*)](#texto)\n",
    "            1. [Métodos](#texto_metodos)\n",
    "            2. [Nota sobre sequências](#sequencias)\n",
    "        2. [Números (*int* e *float*)](#numeros)\n",
    "        3. [Booleanos](#booleanos)\n",
    "        4. [Exemplo biológico](#valores_exemplo)\n",
    "    2. [Tipos de variáveis](#variaveis)\n",
    "        1. [Variáveis escalares](#escalares)\n",
    "        2. [Listas](#listas)\n",
    "            1. [Métodos e operadores](#metodos_de_listas)\n",
    "            2. [Exemplo biológico](#lista_exemplo)\n",
    "        3. [Dicionários](#dicionarios)\n",
    "            1. [Métodos e operadores](#metodos_dicionarios)\n",
    "            2. [Exemplo biológico](#dicionario_exemplo)\n",
    "    3. [Condicionais](#condicionais)\n",
    "        1. [Exemplo biológico](#condicional_exemplo)\n",
    "    4. [Repetição (laços)](#repeticao)\n",
    "        1. [While](#while)\n",
    "            1. [Exemplo biológico](#while_exemplo)\n",
    "        2. [For](#for)\n",
    "            1. [Exemplo biológico](#for_exemplo)\n",
    "        3. [Compreensão](#compreensao)\n",
    "    5. [Funções](#funcoes)\n",
    "        1. [Exemplo biológico](#funcao_exemplo)\n",
    "    6. [Objetos e classes](#objetos)\n",
    "        1. [Atributos](#atributos)\n",
    "        2. [Métodos](#metodos)\n",
    "        2. [Módulos](#modulos)\n",
    "        4. [Exemplo biológico](#objeto_exemplo)\n",
    "    7. [Arquivos](#arquivos)\n",
    "3. [Notas](#notas)"
   ]
  },
  {
   "cell_type": "markdown",
   "metadata": {},
   "source": [
    "<a id=\"jupyter\"></a>\n",
    "## 1. Jupyter NoteBook\n",
    "\n",
    "O conteúdo dessa aula estará inteiramente contido em *notebooks* do Jupyter.\n",
    "\n",
    "Os *notebooks* vão conter as instruções, descrição de conceitos básicos e o código Python executável, já digitado e pronto para execução.\n",
    "\n",
    "<a id=\"inicializacao\"></a>\n",
    "### 1.A Inicialização\n",
    "O Jupyter é uma aplicativo web que deve ser iniciado, __na janela de terminal__, com o comando\n",
    "\n",
    ">`jupyter-notebook`\n",
    "\n",
    "A primeira página do Jupyter mostra os arquivos e diretórios contidos no diretório onde o Jupyter foi iniciado.\n",
    "\n",
    "Clicando em um *notebook* (arquivos terminados em `.ipynb`), a página do *notebook*  é aberta em uma nova janela ou aba, pronta para execução.\n",
    "\n",
    "No Jupyter, a entrada de código ou comentários é feita em as caixas de texto chamadas __células__.\n",
    "\n",
    "Cada *notebook* é uma __sequência de células__, que podem ser preenchidas com texto ou código.\n",
    "\n",
    "O __resultado__ da execução de uma célula, quando visível, é mostrado abaixo da célula.\n",
    "\n",
    ">Se quiser adicionar uma célula para testar código, __controle o tipo de célula__ usando o menu de rolagem (*dropdown menu*), na barra de ferramentas (linha dos botões, abaixo dos menus *File, Edit, etc*), e escolha *Code* ou *Markdown*, conforme sua necessidade. \n",
    "\n",
    "<a id=\"teclas\"></a>\n",
    "### 1.B Teclas\n",
    "\n",
    "Para usar bem o Jupyter, a função de duas combinações de teclas precisam ser memorizadas:\n",
    "\n",
    "* __`Enter`__: ativa a edição da célula, se estiver inativa\n",
    "* __`Shift+Enter`__: executa o conteúdo da célula, convertendo MarkDown em HTML ou executando o código Python dentro da célula.\n",
    "* Quando uma célula inativa é selecionada a tecla:\n",
    "    * `a` adiciona uma célula nova __acima__ da atual e\n",
    "    * `b` adiciona uma célula nova __abaixo__ da atual\n",
    "\n",
    "Para seguir o conteúdo e ver a execução do código, para executar\n",
    "\n",
    "<a id=\"celula\"></a>\n",
    "### 1.C Estado da célula\n",
    "\n",
    "<a id=\"executando\"></a>\n",
    "#### 1.C.a Executando: `In [*]:`\n",
    "Se o código de uma célula está em execução ou aguardando para executar, o indicador do lado esquerdo da célula inclui um asterisco e aparece como `In [*]`.\n",
    "\n",
    "As células podem depender umas das outras __no mesmo *notebook*__ mas não de outro *notebook* pois, embora cada *notebook* execute uma nova instância do *kernel*, todas células do mesmo *notebook* usam o mesmo *kernel*.\n",
    "\n",
    "<a id=\"inativa\"></a>\n",
    "#### 1.C.b Inativa: `In [ ]:`\n",
    "Se uma célula, contendo código, tem do lado esquerdo um indicador de ativide com um espaço vazio entre dois colchetes, ela ainda não foi executada. Um exemplo de célula inativa aparece abaixo."
   ]
  },
  {
   "cell_type": "code",
   "execution_count": null,
   "metadata": {},
   "outputs": [],
   "source": []
  },
  {
   "cell_type": "markdown",
   "metadata": {},
   "source": [
    "<a id=\"resultado\"></a>\n",
    "### 1.D Resultado: `Out[1]:`\n",
    "\n",
    "O Jupyter vai exibir o resultado da execução de uma célula com código __somente__ quando a última linha de código __devolver um [valor](#valores)__ após sua execução.\n",
    "\n",
    "No exemplo abaixo, o nome da [variável](#variaveis) `a` é a última instrução, o que faz com que a célula retorne o [valor](#valores) armazenado em `a`.\n",
    "\n",
    "Para executar, aperte as teclas __`Shift+Enter`__:"
   ]
  },
  {
   "cell_type": "code",
   "execution_count": null,
   "metadata": {},
   "outputs": [],
   "source": [
    "a = 1\n",
    "a"
   ]
  },
  {
   "cell_type": "markdown",
   "metadata": {},
   "source": [
    "Mas, se o código, depois de executar várias instruções, terminar em uma linha que não devolve nenhum [valor](#valores), nada será impresso:"
   ]
  },
  {
   "cell_type": "code",
   "execution_count": null,
   "metadata": {},
   "outputs": [],
   "source": [
    "a = 1\n",
    "a\n",
    "b = 2"
   ]
  },
  {
   "cell_type": "markdown",
   "metadata": {},
   "source": [
    "mesmo se todas as instruções forem executas corretamente e tiverem feito o efeito esperado:"
   ]
  },
  {
   "cell_type": "code",
   "execution_count": null,
   "metadata": {},
   "outputs": [],
   "source": [
    "b"
   ]
  },
  {
   "cell_type": "markdown",
   "metadata": {},
   "source": [
    "<a id=\"python\"></a>\n",
    "## 2. A linguagem Python\n",
    "\n",
    "A liguagem Python é uma linguagem interpretada de alto nível, ou seja, que permite ao usuário realizar tarefas de programação complexas sem ter que lidar com detalhes da arquitetura do computador.\n",
    "\n",
    "O interpretador de Python se encarrega, por exemplo, de solicitar memória ao sistema operacional, sempre que precisa carregar dados na memória, sem que o programador precise escrever, em seu código, essa solicitação.\n",
    "\n",
    "Nessa aula, vamos usar o Python como interpretador do código executável ou [*kernel*](https://jupyter-notebook.readthedocs.io/en/stable/examples/Notebook/Connecting%20with%20the%20Qt%20Console.html?highlight=kernel#The-Frontend/Kernel-Model) para nossos *notebooks*.\n",
    "\n",
    ">__Notas__:\n",
    ">\n",
    "> * A linguagem Python suporta a adição de comentários no código\n",
    "> * A forma mais simples de fazer um comentário é adicionar um sustenido ou *hash tag* (#)\n",
    "> * Todo o texto depois do \"#\" é ignorado pelo Python e tratado com comentário\n",
    "> * Vamos usar comentários nessa aula para explicar algumas linhas de código\n",
    "\n",
    "<a id=\"valores\"></a>\n",
    "### 2.A. Tipos de valores\n",
    "\n",
    "A linguagem Python é capaz de processar muitos tipos diferentes de dados, como números, texto, arquivos, imagens, planilhas, etc.\n",
    "\n",
    "Para lidar com essa diversidade, a linguagem define uma complexa hierarquia de tipos de valores.\n",
    "\n",
    "Nessa aula só precisamos entender alguns tipos básicos de valores, que descrevemos a seguir.\n",
    "\n",
    "<a id=\"texto\"></a>\n",
    "#### 2.A.a. [Texto (*strings*)](https://docs.python.org/3/library/stdtypes.html#textseq)\n",
    "\n",
    "Letras, números, caracteres especiais (como @, \\$, #), o final de uma linha ou uma tabulação, acentos e vários outros caracteres, quando armazenados numa cadeia, representam um texto ou *string*.\n",
    "\n",
    "O Python usa aspas, simples ou duplas, para indicar que uma sequência de um ou mais caracteres será uma *string*.\n",
    "\n",
    "Na célula abaixo atribuímos à [variável](#variaveis) `a` um valor do tipo *string*.\n",
    "\n",
    "Execute essa célula usando a combinação de teclas __`Shift+Enter`__:"
   ]
  },
  {
   "cell_type": "code",
   "execution_count": null,
   "metadata": {
    "scrolled": true
   },
   "outputs": [],
   "source": [
    "a = \"uga buga\""
   ]
  },
  {
   "cell_type": "markdown",
   "metadata": {},
   "source": [
    "Executando a próxima linha (__`Shift+Enter`__) , podemos ver o que foi armazenado:"
   ]
  },
  {
   "cell_type": "code",
   "execution_count": null,
   "metadata": {},
   "outputs": [],
   "source": [
    "a"
   ]
  },
  {
   "cell_type": "markdown",
   "metadata": {},
   "source": [
    "e o tipo de valor:"
   ]
  },
  {
   "cell_type": "code",
   "execution_count": null,
   "metadata": {},
   "outputs": [],
   "source": [
    "type(a)"
   ]
  },
  {
   "cell_type": "markdown",
   "metadata": {},
   "source": [
    "`str` é o identificador do tipo texto em Python.\n",
    "\n",
    "<a id=\"texto_metodos\"></a>\n",
    "##### 2.A.a.i Métodos\n",
    "\n",
    "Valores do tipo texto (*string*) têm vários métodos específicos desse tipo como:\n",
    "\n",
    "* Contar quantas vezes um texto aparece dentro do texto na variável"
   ]
  },
  {
   "cell_type": "code",
   "execution_count": null,
   "metadata": {},
   "outputs": [],
   "source": [
    "a = \"uga buga\"\n",
    "a.count('a')"
   ]
  },
  {
   "cell_type": "markdown",
   "metadata": {},
   "source": [
    "* Devolver o mesmo texto depois de converter todas as letras em maísculas"
   ]
  },
  {
   "cell_type": "code",
   "execution_count": null,
   "metadata": {},
   "outputs": [],
   "source": [
    "a = \"uga buga\"\n",
    "a.upper()"
   ]
  },
  {
   "cell_type": "markdown",
   "metadata": {},
   "source": [
    "Para ver o repertório completo de métodos para valores do tipo *string*, use o comando `help()`:"
   ]
  },
  {
   "cell_type": "code",
   "execution_count": null,
   "metadata": {},
   "outputs": [],
   "source": [
    "help(str)"
   ]
  },
  {
   "cell_type": "markdown",
   "metadata": {},
   "source": [
    "<a id=\"sequencias\"></a>\n",
    "##### 2.A.a.ii Nota sobre sequências\n",
    "\n",
    "Em Python, os valores do tipo texto são um exemplo de uma classe mais ampla, chamada [sequências]().\n",
    "\n",
    "Isso é importante pois implica que funções de sequências também funcionam com *strings*, tais como `len()`:"
   ]
  },
  {
   "cell_type": "code",
   "execution_count": null,
   "metadata": {},
   "outputs": [],
   "source": [
    "len(\"uga\")"
   ]
  },
  {
   "cell_type": "code",
   "execution_count": null,
   "metadata": {},
   "outputs": [],
   "source": [
    "len(a)"
   ]
  },
  {
   "cell_type": "markdown",
   "metadata": {},
   "source": [
    "que imprime o comprimento da *string*.\n",
    "\n",
    "O operador `in` também funciona e serve para testar se uma *string* contém outra *string*:"
   ]
  },
  {
   "cell_type": "code",
   "execution_count": null,
   "metadata": {},
   "outputs": [],
   "source": [
    "\"h\" in \"Arthur\""
   ]
  },
  {
   "cell_type": "code",
   "execution_count": null,
   "metadata": {},
   "outputs": [],
   "source": [
    "\"J\" in \"Jota\""
   ]
  },
  {
   "cell_type": "code",
   "execution_count": null,
   "metadata": {},
   "outputs": [],
   "source": [
    "a"
   ]
  },
  {
   "cell_type": "code",
   "execution_count": null,
   "metadata": {},
   "outputs": [],
   "source": [
    "\"bug\" in a"
   ]
  },
  {
   "cell_type": "markdown",
   "metadata": {},
   "source": [
    "<a id=\"numeros\"></a>\n",
    "#### 2.A.b. [Números (*int* e *float*)](https://docs.python.org/3/library/stdtypes.html#numeric-types-int-float-complex)\n",
    "\n",
    "Python implementa três tipos básicos de valores numéricos: inteiros, reais e complexos.\n",
    "\n",
    "Valores inteiros correspondem aos números inteiros, positivos ou negativos:"
   ]
  },
  {
   "cell_type": "code",
   "execution_count": null,
   "metadata": {},
   "outputs": [],
   "source": [
    "b = 1\n",
    "c = -2\n",
    "d = 0"
   ]
  },
  {
   "cell_type": "code",
   "execution_count": null,
   "metadata": {},
   "outputs": [],
   "source": [
    "type(b)"
   ]
  },
  {
   "cell_type": "markdown",
   "metadata": {},
   "source": [
    "Note que para definir valores numéricos não usamos aspas!\n",
    "\n",
    "O código:"
   ]
  },
  {
   "cell_type": "code",
   "execution_count": null,
   "metadata": {},
   "outputs": [],
   "source": [
    "e = \"3\"\n",
    "type(e)"
   ]
  },
  {
   "cell_type": "markdown",
   "metadata": {},
   "source": [
    "mostra que a variável `e` é, na verdade, uma *string*.\n",
    "\n",
    "e podemos fazer as operações aritméticas usuais com os números:"
   ]
  },
  {
   "cell_type": "code",
   "execution_count": null,
   "metadata": {},
   "outputs": [],
   "source": [
    "b + c"
   ]
  },
  {
   "cell_type": "markdown",
   "metadata": {},
   "source": [
    "O comportamento não é diferente para números reais (*float*):"
   ]
  },
  {
   "cell_type": "code",
   "execution_count": null,
   "metadata": {},
   "outputs": [],
   "source": [
    "f = 0.1"
   ]
  },
  {
   "cell_type": "code",
   "execution_count": null,
   "metadata": {},
   "outputs": [],
   "source": [
    "f"
   ]
  },
  {
   "cell_type": "code",
   "execution_count": null,
   "metadata": {},
   "outputs": [],
   "source": [
    "type(f)"
   ]
  },
  {
   "cell_type": "code",
   "execution_count": null,
   "metadata": {},
   "outputs": [],
   "source": [
    "b + f"
   ]
  },
  {
   "cell_type": "markdown",
   "metadata": {},
   "source": [
    "<a id=\"booleanos\"></a>\n",
    "#### 2.A.c Booleanos\n",
    "\n",
    "Esse tipo de variável é binária: comporta apenas os valores verdadeiro (*True*) ou falso (*False*).\n",
    "    \n",
    "Esse tipo de variável aparece sempre que é preciso testar relações lógicas como, por exemplo, se alguma condição se aplica (ver [Condicionais](#condicionais), abaixo).\n",
    "\n",
    "Operadores lógicos (and, or, not) são os mais usados para avaliar os valores booleanos, mas operadores numéricos também funcionam pois os booleanos são também considerados um tipo numérico em Python."
   ]
  },
  {
   "cell_type": "code",
   "execution_count": null,
   "metadata": {},
   "outputs": [],
   "source": [
    "g = True\n",
    "h = False"
   ]
  },
  {
   "cell_type": "code",
   "execution_count": null,
   "metadata": {},
   "outputs": [],
   "source": [
    "g and h"
   ]
  },
  {
   "cell_type": "code",
   "execution_count": null,
   "metadata": {},
   "outputs": [],
   "source": [
    "g * h"
   ]
  },
  {
   "cell_type": "markdown",
   "metadata": {},
   "source": [
    "<a id=\"valores_exemplo\"></a>\n",
    "#### 2.A.d Exemplo biológico\n",
    "\n",
    "Para lidar com sequências biológicas é conveniente usar valores do tipo texto:"
   ]
  },
  {
   "cell_type": "code",
   "execution_count": null,
   "metadata": {},
   "outputs": [],
   "source": [
    "s = \"ATGAAAAGTGGGCCC\"\n",
    "s"
   ]
  },
  {
   "cell_type": "markdown",
   "metadata": {},
   "source": [
    "Há várias propriedades das sequências, porém, que são melhor descritas por variáveis numéricas, como seu comprimento ou a frequência de bases:"
   ]
  },
  {
   "cell_type": "code",
   "execution_count": null,
   "metadata": {},
   "outputs": [],
   "source": [
    "s = \"ATGAAAAGTGGGCCC\"       # Armazendando a sequência\n",
    "sG = s.count('G')           # Número de guaninas na sequência \"s\" (int)\n",
    "sC = s.count('C')           # Número de citosinas na sequência \"s\" (int)\n",
    "GC = sG + sC                # Quantidade de guaninas e citosinas (int)\n",
    "sl = len(s)                 # Comprimento da sequência (int)\n",
    "GCp = GC / sl               # Percentual de guanina e citosina (float)\n",
    "print(f'GC  = {GC}')        # Usando a F-string e print() para imprimir o valor da variável GC\n",
    "print(f'GC% = {GCp}')       # Usando a F-string e print() para imprimir o valor da variável GCp\n",
    "type(GCp)                   # Imprimindo o tipo de valor da variável GCp"
   ]
  },
  {
   "cell_type": "markdown",
   "metadata": {},
   "source": [
    "<a id=\"variaveis\"></a>\n",
    "### 2.B Tipos de variáveis\n",
    "Além de poder processar vários tipos de dados, o Python também pode organizar esses dados de muitas maneiras diferentes na memória do computador.\n",
    "\n",
    "As diferentes formas de organização dos dados são chamadas de __tipos de variáveis__ e os tipos mais básicos são intrínsecos ([*built-in variables*](https://docs.python.org/3/library/stdtypes.html)), ou seja, são parte integral da linguagem Python.\n",
    "\n",
    "Os tipos mais importantes de variáveis intrínsecas são:\n",
    "\n",
    "<a id=\"escalares\"></a>\n",
    "#### 2.B.a Variáveis escalares\n",
    "Como visto nos exemplos acima, o tipo mais simples de variável, chamado de escalar, corresponde a um único valor e é acessado pelo nome atribuído à variável:"
   ]
  },
  {
   "cell_type": "code",
   "execution_count": null,
   "metadata": {},
   "outputs": [],
   "source": [
    "var1 = \"Essa variável é do tipo escalar\""
   ]
  },
  {
   "cell_type": "code",
   "execution_count": null,
   "metadata": {},
   "outputs": [],
   "source": [
    "var1"
   ]
  },
  {
   "cell_type": "markdown",
   "metadata": {},
   "source": [
    "O comportamento de uma variável escalar é definido pelo tipo do valor armazenado nela.\n",
    "\n",
    "<a id=\"listas\"></a>\n",
    "#### 2.B.b [Listas](https://docs.python.org/3/library/stdtypes.html#list)\n",
    "\n",
    "Listas são conjuntos ordenados de variáveis esclares cujos elementos são identificados por índices numéricos.\n",
    "\n",
    "Assim como as *strings*, listas são sequências, o que implica que os métodos `len()`, `count()` e `in`, [entre outros](https://docs.python.org/3/library/stdtypes.html#sequence-types-list-tuple-range), funcionam para listas.\n",
    "\n",
    "Para criar uma lista podemos usar a notação de colchetes `[]`:"
   ]
  },
  {
   "cell_type": "code",
   "execution_count": null,
   "metadata": {},
   "outputs": [],
   "source": [
    "m = ['a',2,'texto',3]"
   ]
  },
  {
   "cell_type": "code",
   "execution_count": null,
   "metadata": {},
   "outputs": [],
   "source": [
    "m"
   ]
  },
  {
   "cell_type": "markdown",
   "metadata": {},
   "source": [
    "Alternativamente, podemos usar a função `list()`, para converter um texto ([*string*](#texto)) em uma lista:"
   ]
  },
  {
   "cell_type": "code",
   "execution_count": null,
   "metadata": {},
   "outputs": [],
   "source": [
    "n = list('abc1')\n",
    "n"
   ]
  },
  {
   "cell_type": "markdown",
   "metadata": {},
   "source": [
    "Note que, no caso acima, o último elemento, embora seja um número é armazenado na lista como texto (*string*).\n",
    "\n",
    "#### __Acessando valores em uma lista__\n",
    "\n",
    "Itens em uma lista podem ser acessados usando o índice (posição) do elemento:"
   ]
  },
  {
   "cell_type": "code",
   "execution_count": null,
   "metadata": {},
   "outputs": [],
   "source": [
    "m[2]"
   ]
  },
  {
   "cell_type": "markdown",
   "metadata": {},
   "source": [
    "Para acessar uma __fatia__ de uma lista usamos a notação de intervalo `x:y`, onde\n",
    "* `x` é o indice do primeiro elemento a ser recuperado na lista e\n",
    "* `y` é o limite superior do intervalo ou seja, parte de seus elementos:\n",
    "\n",
    "Exemplos:\n",
    "\n",
    "1. __Segundo__ e __terceiro__ elementos da lista `m = ['a',2,'texto',3]`:"
   ]
  },
  {
   "cell_type": "code",
   "execution_count": null,
   "metadata": {},
   "outputs": [],
   "source": [
    "m[1:3]"
   ]
  },
  {
   "cell_type": "markdown",
   "metadata": {},
   "source": [
    "2. Do __primeiro__ ao __terceiro__ elementos da lista:"
   ]
  },
  {
   "cell_type": "code",
   "execution_count": null,
   "metadata": {},
   "outputs": [],
   "source": [
    "m[0:3]"
   ]
  },
  {
   "cell_type": "markdown",
   "metadata": {},
   "source": [
    "3. Últimos dois elementos, usando índices negativos:"
   ]
  },
  {
   "cell_type": "code",
   "execution_count": null,
   "metadata": {},
   "outputs": [],
   "source": [
    "m"
   ]
  },
  {
   "cell_type": "code",
   "execution_count": null,
   "metadata": {},
   "outputs": [],
   "source": [
    "m[-2:]"
   ]
  },
  {
   "cell_type": "markdown",
   "metadata": {},
   "source": [
    "Note que os índices começam em __zero__, fazendo com que o índice de um elemento seja sempre sua posição menos um.\n",
    "\n",
    "> __Nota:__\n",
    ">\n",
    "> A mesma lista pode armazenar tipos de valores diferentes:"
   ]
  },
  {
   "cell_type": "code",
   "execution_count": null,
   "metadata": {},
   "outputs": [],
   "source": [
    "type(m[0])"
   ]
  },
  {
   "cell_type": "code",
   "execution_count": null,
   "metadata": {},
   "outputs": [],
   "source": [
    "type(m[1])"
   ]
  },
  {
   "cell_type": "markdown",
   "metadata": {},
   "source": [
    "<a id=\"metodos_de_listas\"></a>\n",
    "#### 2.B.b.i Métodos e operadores\n",
    "\n",
    "A todo um [repertório de operações](https://docs.python.org/3/library/stdtypes.html#list) que podemos fazer com listas, usando funções e/ou operadores.\n",
    "\n",
    "Alguns exemplos importantes:\n",
    "\n",
    "* __Concatenando listas__\n",
    "\n",
    "Com o operador `+`"
   ]
  },
  {
   "cell_type": "code",
   "execution_count": null,
   "metadata": {},
   "outputs": [],
   "source": [
    "['a','b','c'] + ['d','e']"
   ]
  },
  {
   "cell_type": "markdown",
   "metadata": {},
   "source": [
    "ou, usando um [método](#metodos):"
   ]
  },
  {
   "cell_type": "code",
   "execution_count": null,
   "metadata": {},
   "outputs": [],
   "source": [
    "m"
   ]
  },
  {
   "cell_type": "code",
   "execution_count": null,
   "metadata": {},
   "outputs": [],
   "source": [
    "m.extend(['texto2','texto3'])\n",
    "m"
   ]
  },
  {
   "cell_type": "markdown",
   "metadata": {},
   "source": [
    "ou, para adicionar __um único elemento__ usando um [método](https://docs.python.org/3/library/stdtypes.html#methods):"
   ]
  },
  {
   "cell_type": "code",
   "execution_count": null,
   "metadata": {},
   "outputs": [],
   "source": [
    "m.append('texto4')\n",
    "m"
   ]
  },
  {
   "cell_type": "markdown",
   "metadata": {},
   "source": [
    "* __Ordenar elementos__\n",
    "\n",
    "Essa operação exige que todos os elementos da lista sejam o mesmo [tipo de variável](#variaveis)."
   ]
  },
  {
   "cell_type": "code",
   "execution_count": null,
   "metadata": {},
   "outputs": [],
   "source": [
    "m = list('zebra ROXA')\n",
    "m.sort()"
   ]
  },
  {
   "cell_type": "code",
   "execution_count": null,
   "metadata": {},
   "outputs": [],
   "source": [
    "m"
   ]
  },
  {
   "cell_type": "markdown",
   "metadata": {},
   "source": [
    "note que o método `sort()` altera a variável `m` sem retornar nada e essa é a razão pela qual a execução do código na penúltima célula não imprime nada.\n",
    "\n",
    "* __Comprimento de uma lista__"
   ]
  },
  {
   "cell_type": "code",
   "execution_count": null,
   "metadata": {},
   "outputs": [],
   "source": [
    "len(m)"
   ]
  },
  {
   "cell_type": "markdown",
   "metadata": {},
   "source": [
    "* __Remover elementos__\n",
    "\n",
    "Pode ser feito com a função `del()`, que também é usada para remover variáveis inteiras:"
   ]
  },
  {
   "cell_type": "code",
   "execution_count": null,
   "metadata": {},
   "outputs": [],
   "source": [
    "del(m[4:8])"
   ]
  },
  {
   "cell_type": "code",
   "execution_count": null,
   "metadata": {},
   "outputs": [],
   "source": [
    "m"
   ]
  },
  {
   "cell_type": "markdown",
   "metadata": {},
   "source": [
    "ou usando essa sintaxe:"
   ]
  },
  {
   "cell_type": "code",
   "execution_count": null,
   "metadata": {},
   "outputs": [],
   "source": [
    "m[2:4] = []"
   ]
  },
  {
   "cell_type": "code",
   "execution_count": null,
   "metadata": {},
   "outputs": [],
   "source": [
    "m"
   ]
  },
  {
   "cell_type": "markdown",
   "metadata": {},
   "source": [
    "* __Verificando a presença de certo valor__"
   ]
  },
  {
   "cell_type": "code",
   "execution_count": null,
   "metadata": {},
   "outputs": [],
   "source": [
    "'A' in m"
   ]
  },
  {
   "cell_type": "markdown",
   "metadata": {},
   "source": [
    "<a id=\"lista_exemplo\"></a>\n",
    "#### 2.B.b.ii Exemplo biológico\n",
    "\n",
    "Podemos usar listas para armazenar múltiplas sequências de nucleotídeos ou proteínas e comparar alguma posição nelas:"
   ]
  },
  {
   "cell_type": "code",
   "execution_count": null,
   "metadata": {},
   "outputs": [],
   "source": [
    "s = ['ATGAAAAGTGGGCCC','ATGAAAAGCGGGCCC']\n",
    "s[0]"
   ]
  },
  {
   "cell_type": "code",
   "execution_count": null,
   "metadata": {},
   "outputs": [],
   "source": [
    "s[1]"
   ]
  },
  {
   "cell_type": "code",
   "execution_count": null,
   "metadata": {},
   "outputs": [],
   "source": [
    "s[0][8]"
   ]
  },
  {
   "cell_type": "code",
   "execution_count": null,
   "metadata": {},
   "outputs": [],
   "source": [
    "s[1][8]"
   ]
  },
  {
   "cell_type": "code",
   "execution_count": null,
   "metadata": {},
   "outputs": [],
   "source": [
    "s[0][8] == s[1][8]"
   ]
  },
  {
   "cell_type": "markdown",
   "metadata": {},
   "source": [
    "No exemplo acima usamos o primeiro colchete para acessar a __primeira__ sequência (`s[0]`, valor do tipo texto).\n",
    "\n",
    "O mesmo é aplicado à segunda sequência e, em seguida, o segundo par de colchetes usa a notação de colchetes para acessar uma base na sequência de nucleotídeos. Para a __segunda__ sequência, por exemplo, o __nono__ (9) caractere é `s[1][8]`."
   ]
  },
  {
   "cell_type": "markdown",
   "metadata": {},
   "source": [
    "<a id=\"dicionarios\"></a>\n",
    "#### 2.B.c Dicionários\n",
    "\n",
    "Dicionários são semelhantes às listas mas os identificadores dos elementos (__índices__) podem ser texto (*strings*) e não apenas números inteiros.\n",
    "\n",
    "Dizemos, portanto, que um dicionário associa uma chave com um único valor, definindo um par `chave => valor`.\n",
    "\n",
    "Dicionários podem ser criados usando chaves (`{}`):"
   ]
  },
  {
   "cell_type": "code",
   "execution_count": null,
   "metadata": {},
   "outputs": [],
   "source": [
    "d = {'c':'d', 'a':'b'}"
   ]
  },
  {
   "cell_type": "code",
   "execution_count": null,
   "metadata": {},
   "outputs": [],
   "source": [
    "d"
   ]
  },
  {
   "cell_type": "markdown",
   "metadata": {},
   "source": [
    "e seus valores podem ser acessados usando a sintaxe e colchetes:"
   ]
  },
  {
   "cell_type": "code",
   "execution_count": null,
   "metadata": {},
   "outputs": [],
   "source": [
    "d['a']"
   ]
  },
  {
   "cell_type": "markdown",
   "metadata": {},
   "source": [
    "* __Verificando a presença de uma chave__\n",
    "\n",
    "Assim como nas listas, podemos usar o operador `in` para saber o que está armazenado em um dicionário.\n",
    "\n",
    "Para dicionários, porém, esse operador verifica apenas a preseça da chave:"
   ]
  },
  {
   "cell_type": "code",
   "execution_count": null,
   "metadata": {},
   "outputs": [],
   "source": [
    "'c' in d"
   ]
  },
  {
   "cell_type": "markdown",
   "metadata": {},
   "source": [
    "<a id=\"metodos_dicionarios\"></a>\n",
    "#### 2.B.c.i Métodos e operadores\n",
    "\n",
    "Para dicionários, o comportamento de [operadores](https://docs.python.org/3/reference/lexical_analysis.html#operators) e o repertório de [métodos](https://docs.python.org/3/library/stdtypes.html#methods) é similar ao disponível para listas.\n",
    "\n",
    "\n",
    "* O __comprimento de um dicionário__ é o número de pares `chave => valor` nesse dicionário:"
   ]
  },
  {
   "cell_type": "code",
   "execution_count": null,
   "metadata": {},
   "outputs": [],
   "source": [
    "len(d)"
   ]
  },
  {
   "cell_type": "markdown",
   "metadata": {},
   "source": [
    "* É possível obter a __lista de chaves__ de um dicionário:"
   ]
  },
  {
   "cell_type": "code",
   "execution_count": null,
   "metadata": {},
   "outputs": [],
   "source": [
    "d.keys()"
   ]
  },
  {
   "cell_type": "markdown",
   "metadata": {},
   "source": [
    "<a id=\"dicionario_exemplo\"></a>\n",
    "#### 2.B.c.ii Exemplo biológico\n",
    "\n",
    "Boa parte da informação em bioinformática é processada no formato de texto, o que torna os dicionários extremamente úteis para representar esse tipo de informação.\n",
    "\n",
    "Um exemplo é a conveniência de representar o código genético em um dicionário:"
   ]
  },
  {
   "cell_type": "code",
   "execution_count": null,
   "metadata": {},
   "outputs": [],
   "source": [
    "gc = {'ATG':'M', 'TGG':'W'} # Códons para os aminoácidos metionina (M) e triptofano (W)\n",
    "gc['CCC'] = 'P'             # Adicionando um códon de prolina (P)\n",
    "gc"
   ]
  },
  {
   "cell_type": "markdown",
   "metadata": {},
   "source": [
    "<a id=\"condicionais\"></a>\n",
    "## 2.C [Condicionais](#https://docs.python.org/3/tutorial/controlflow.html#if-statements)\n",
    "\n",
    "Quando preparamos um programa para resolver um problema, é comum que, à medida que a execução do programa avança, tenhamos que lidar com situações que exigem soluções diferentes. \n",
    "\n",
    "Nesses casos, é comum usarmos a palavra __`if`__ para definir qual o comportamento do programa em cada situação:"
   ]
  },
  {
   "cell_type": "code",
   "execution_count": null,
   "metadata": {},
   "outputs": [],
   "source": [
    "if True:\n",
    "    print('Considerado \"verdadeiro\"!')"
   ]
  },
  {
   "cell_type": "markdown",
   "metadata": {},
   "source": [
    "É importante lembrar que o texto que vem à frente do `if` é sempre avaliado como sendo um valor [booleano](#booleanos), ou seja, examinado e considerado __falso__ ou __verdadeiro__.\n",
    "\n",
    "No caso do exemplo acima, a função [`print()`](https://docs.python.org/3/library/functions.html#print) será sempre executado, pois o valor à frente do `if` é sempre verdadeiro. \n",
    "\n",
    "Usando a palavra `else`, que contrala a execução de código quando o teste avaliado pelo `if` resulta falso: "
   ]
  },
  {
   "cell_type": "code",
   "execution_count": null,
   "metadata": {},
   "outputs": [],
   "source": [
    "if True:\n",
    "    print('Considerado \"verdadeiro\"!')\n",
    "else:\n",
    "    print('Considerado \"falso\"!')"
   ]
  },
  {
   "cell_type": "markdown",
   "metadata": {},
   "source": [
    "Usando a célula abaixo, trocando o `True` por quaisquer outros exemplos de código ou variável para descobrir se o `if` considera o valor como verdadeiro. Por exemplo: `[]`, `'a'`, `['a']`, `1`, `list()`, etc."
   ]
  },
  {
   "cell_type": "code",
   "execution_count": null,
   "metadata": {},
   "outputs": [],
   "source": [
    "if []:\n",
    "    print('Considerado \"verdadeiro\"!')\n",
    "else:\n",
    "    print('Considerado \"falso\"!')"
   ]
  },
  {
   "cell_type": "markdown",
   "metadata": {},
   "source": [
    ">__Nota importante__:\n",
    ">\n",
    "> No código acima usamos, pela primeira vez nesse tutoria uma [__indentação__](https://docs.python.org/3/reference/lexical_analysis.html#indentation), ou seja, um conjunto de __quatro espaços__ ou uma __tabulação__ (tecla *Tab*) no começo da linha.\n",
    ">\n",
    ">Em Python, as indentações são usadas para definir contextos, ou seja, __conjuntos de linhas__ que são __executados__ apenas nas circuntâncias definidas pela linha que define o bloco.\n",
    ">\n",
    "> Outros exemplos de contextos serão introduidos quando tratarmos de [laços](#repeticao) e [funções](#funcoes).\n",
    "\n",
    "<a id=\"condicional_exemplo\"></a>\n",
    "#### 2.C.a Exemplo biológico:\n",
    "\n",
    "Podemos testar se um certo códon está presente no dicionário `gc`:"
   ]
  },
  {
   "cell_type": "code",
   "execution_count": null,
   "metadata": {},
   "outputs": [],
   "source": [
    "gc = {'ATG':'M', 'TGG':'W', 'CCC':'P'}\n",
    "if 'CCA' in gc:\n",
    "    print(gc['CCA'])\n",
    "else:\n",
    "    print(\"O códon CCA não está no dicionário!\")"
   ]
  },
  {
   "cell_type": "markdown",
   "metadata": {},
   "source": [
    "<a id=\"repeticao\"></a>\n",
    "## 2.D Repetição (laços)\n",
    "\n",
    "Uma das características mais úteis da programação é a possibilidade de repetir muitas vezes um procedimento.\n",
    "\n",
    "Para fazer isso em Python podemos usar as palavras `while` e `for` para definir blocos de códigos que serão executados até que a condição definida não mais se aplique, ou seja, seja __falsa__.\n",
    "\n",
    "<a id=\"while\"></a>\n",
    "### 2.D.a [While](https://docs.python.org/3/reference/compound_stmts.html#while)\n",
    "\n",
    "A palavra `while` opera de forma semelhante ao `if`, pois também precisa de uma indentação para definir quais são as linhas que pertencem ao bloco (mesmo contexto).\n",
    "\n",
    "A execução das linhas no bloco só para de ser repetida quando o código entre `while` e `:` é avaliado como sendo __falso__:"
   ]
  },
  {
   "cell_type": "code",
   "execution_count": null,
   "metadata": {},
   "outputs": [],
   "source": [
    "a = True\n",
    "while a:\n",
    "    print('É para repetir isso enquanto \"a\" for verdadeiro (True)')\n",
    "    a = False"
   ]
  },
  {
   "cell_type": "markdown",
   "metadata": {},
   "source": [
    ">__Notas__:\n",
    ">\n",
    ">* O código acima, se a linha `a = False` for removida, jamais terminará sua execução, exigindo que a execução do próprio Python seja interrompida.\n",
    ">\n",
    ">* A identação correta é essencial para que o Python saiba que a linha `a = False` pertence ao bloco definido pelo `while`. Sem a indentação, no exemplo acima, essa linha jamais seria executada.\n"
   ]
  },
  {
   "cell_type": "markdown",
   "metadata": {},
   "source": [
    "Uma forma muito comum de usar um laço `while` é repetir cálulos para um intervalo de números:"
   ]
  },
  {
   "cell_type": "code",
   "execution_count": null,
   "metadata": {},
   "outputs": [],
   "source": [
    "i = 0\n",
    "while i < 10:\n",
    "    print(i)\n",
    "    i = i + 1"
   ]
  },
  {
   "cell_type": "markdown",
   "metadata": {},
   "source": [
    "Quando necesseario, podemos interromper a execução do laço usando `break`:"
   ]
  },
  {
   "cell_type": "code",
   "execution_count": null,
   "metadata": {},
   "outputs": [],
   "source": [
    "i = 0\n",
    "while i < 10:\n",
    "    print(i)\n",
    "    if i == 5:\n",
    "        break\n",
    "    i = i + 1"
   ]
  },
  {
   "cell_type": "markdown",
   "metadata": {},
   "source": [
    "Note que o teste no exemplo acima é feito depois da linha `print()`, razão pela qual o número cinco ainda é impresso.\n",
    "\n",
    "Uma outro recurso útil é a capacidade de pular uma ou mais das repetições mas continuar executando o resto do código depois:"
   ]
  },
  {
   "cell_type": "code",
   "execution_count": null,
   "metadata": {},
   "outputs": [],
   "source": [
    "i = 0\n",
    "while i < 10:\n",
    "    if i == 5:\n",
    "        i = i + 1\n",
    "        continue\n",
    "    else:\n",
    "        print(i)\n",
    "    i = i + 1"
   ]
  },
  {
   "cell_type": "markdown",
   "metadata": {},
   "source": [
    " O código acima evitar a impressão do número 5 mas é preciso incrementar o contador quando `i == 5` antes de ordenar a continuação do laço (`continue`) para evitar que a variável de controle (`i`) fique estagnada no número 5 e o laço jamais termine.\n",
    "\n",
    "<a id=\"while_exemplo\"></a>\n",
    "#### 2.D.b Exemplo biológico:\n",
    "\n",
    "Usando o laço `while` podemos extrair os códons de uma sequência de DNA:"
   ]
  },
  {
   "cell_type": "code",
   "execution_count": null,
   "metadata": {},
   "outputs": [],
   "source": [
    "s = \"ATGAAAAGTGGGCCC\"     # Variável que contém a sequência de interesse\n",
    "i = 0                     # Valor inicial da variável \"i\"\n",
    "while i < len(s):         # Cabeçalho do bloco\n",
    "    print(s[i:i+3])       # Extraindo fatias de três nucleotídeos da sequência \"s\"\n",
    "    i = i + 3             # Incrementando \"i\""
   ]
  },
  {
   "cell_type": "markdown",
   "metadata": {},
   "source": [
    "No exemplo acima, `i`:\n",
    "* Controla o laço, evitando que o código busque texto depois do final da sequência\n",
    "* Indica a posição de início de cada códon, que começa no zero e tem que incluir três bases"
   ]
  },
  {
   "cell_type": "markdown",
   "metadata": {},
   "source": [
    "<a id=\"for\"></a>\n",
    "### 2.D.b For\n",
    "\n",
    "Outra forma de criar um bloco de código é a palavra `for`, que repete as linhas de código no bloco para cada um dos elementos de uma lista."
   ]
  },
  {
   "cell_type": "code",
   "execution_count": null,
   "metadata": {},
   "outputs": [],
   "source": [
    "x = 0\n",
    "for x in ['a','b','c','d']:\n",
    "    print(x)"
   ]
  },
  {
   "cell_type": "markdown",
   "metadata": {},
   "source": [
    ">__Nota__:\n",
    ">\n",
    ">A variável `x`, à qual atribuímos o valor zero (0) antes de executarmos o laço `for`, agora mudou seu valor para `'d'`:"
   ]
  },
  {
   "cell_type": "code",
   "execution_count": null,
   "metadata": {},
   "outputs": [],
   "source": [
    "x"
   ]
  },
  {
   "cell_type": "markdown",
   "metadata": {},
   "source": [
    "Em laços `for` usamos a palavra `in` mas, diferente dos contextos nos quais ela testa a presença de elementos em listas ou chaves em dicionários, `for x in y:` opera atribuindo o valor do __próximo__ elemento de `y` à variável escalar `x`.\n",
    "\n",
    "Para efeitos práticos, o laço `for` é equivalente a um laço `while` no qual a variável controle (`i` no exemplo da seção anterior) fica oculta e não precisa ser incrementada.\n",
    "\n",
    "Ou seja, se `y` é algum tipo de dado compatível com laços, como uma lista, o código:"
   ]
  },
  {
   "cell_type": "code",
   "execution_count": null,
   "metadata": {},
   "outputs": [],
   "source": [
    "y = \"ATGAAAAGTGGGCCC\"\n",
    "for x in y:\n",
    "    print(x)"
   ]
  },
  {
   "cell_type": "markdown",
   "metadata": {},
   "source": [
    "é equivalente a"
   ]
  },
  {
   "cell_type": "code",
   "execution_count": null,
   "metadata": {},
   "outputs": [],
   "source": [
    "y = \"ATGAAAAGTGGGCCC\"\n",
    "i = 0\n",
    "while i < len(y):\n",
    "    x = y[i]\n",
    "    print(x)\n",
    "    i = i + 1"
   ]
  },
  {
   "cell_type": "markdown",
   "metadata": {},
   "source": [
    ">__Nota__:\n",
    ">\n",
    ">Como esperado, as palavras `continue`, que impede a execução de um laço, e `break`, que interrompe a execução de todos os laços subsequentes, também podem ser usadas em laços `for`.\n",
    "\n",
    "<a id=\"for_exemplo\"></a>\n",
    "#### 2.D.b.i Exemplo biológico\n",
    "\n",
    "Usaremos o laço `for` para achar os resíduos diferentes de duas sequências:"
   ]
  },
  {
   "cell_type": "code",
   "execution_count": null,
   "metadata": {},
   "outputs": [],
   "source": [
    "a = 'ATGAAAAGTGGGCCC'\n",
    "b = 'ATGAAAAGCGGGCCC'\n",
    "for i in range(0,len(a)):\n",
    "    if a[i] != b[i]:\n",
    "        print(f'As sequências diferem por uma mutação na posição {i+1}')"
   ]
  },
  {
   "cell_type": "markdown",
   "metadata": {},
   "source": [
    ">__Nota__:\n",
    ">\n",
    ">[`range()`](https://docs.python.org/3/library/functions.html#func-range) cria todos os valores em um intervalo, nesse caso os números de $0$ a $len(a) - 1$, e o laço `for` processa cada um desses valores, dispensando a necessidade de incrementar explicitamente (`i = i + 1`) a variávei `i`, como seria necessário num laço `while`."
   ]
  },
  {
   "cell_type": "markdown",
   "metadata": {},
   "source": [
    "<a id=\"funcoes\"></a>\n",
    "## 2.E Funções\n",
    "\n",
    "Funções são um sintaxe conveniente e poderosa para definir blocos de código.\n",
    "\n",
    "Algumas das principais vantagens de se usar funções para definir blocos são:\n",
    "\n",
    "* A possibilidade de simplificar a reutilização de código\n",
    "* Controle sobre a entrada e saída de dados\n",
    "* Independência das variáveis definidas dentro e fora da função\n",
    "\n",
    "Para definir uma função usamos a palavra `def`, seguida do nome da função e dos argumentos que ela deve receber, delimitados por parênteses:"
   ]
  },
  {
   "cell_type": "code",
   "execution_count": null,
   "metadata": {},
   "outputs": [],
   "source": [
    "def hello(x):\n",
    "    print(f'Hello {x}!')\n",
    "\n",
    "hello(\"Homo sapiens\")"
   ]
  },
  {
   "cell_type": "markdown",
   "metadata": {},
   "source": [
    "No exemplo acima usamos uma das conveniências introduzidas na versão 3 da linguagem Python: a `F-string`.\n",
    "\n",
    "Uma *F-string* permite intercalar texto e código em Python, bastando que o código dentro da *F-string* apareça dentro de um par de chaves para que ele seja executado antes de a *string* completa ser retornada.\n",
    "\n",
    "<a id=\"funcao_exemplo\"></a>\n",
    "#### 2.E.a Exemplo biológico\n",
    "\n",
    "O código que criamos para extrair códons de uma sequência de DNA parece muito útil.\n",
    "\n",
    "Vamos convertê-lo em uma função que devolva os códons numa lista:"
   ]
  },
  {
   "cell_type": "code",
   "execution_count": null,
   "metadata": {},
   "outputs": [],
   "source": [
    "def get_codons(x):\n",
    "    c = []\n",
    "    i = 0                     # Valor inicial da variável \"i\"\n",
    "    while i < len(x):         # Cabeçalho do bloco\n",
    "        c.append(x[i:i+3])    # Extraindo fatias de três nucleotídeos da sequência \"s\"\n",
    "        i = i + 3             # Incrementando \"i\"\n",
    "    return c"
   ]
  },
  {
   "cell_type": "markdown",
   "metadata": {},
   "source": [
    "Como na definição de outros blocos, a indentação correta é chave para que o código funcione.\n",
    "\n",
    "Aplicamos nossa função chamando-a pelo nome com os argumentos que nos interessam:"
   ]
  },
  {
   "cell_type": "code",
   "execution_count": null,
   "metadata": {},
   "outputs": [],
   "source": [
    "x = \"Definido antes de chamarmos get_codons()\"\n",
    "s = \"ATGAAAAGTGGGCCC\"\n",
    "get_codons(s)"
   ]
  },
  {
   "cell_type": "markdown",
   "metadata": {},
   "source": [
    "Ilustrando a independência de variáveis definidas dentro e fora da função, o valor de `x` definido antes de chamarmos `get_codons()` não é alterado:"
   ]
  },
  {
   "cell_type": "code",
   "execution_count": null,
   "metadata": {},
   "outputs": [],
   "source": [
    "x"
   ]
  },
  {
   "cell_type": "markdown",
   "metadata": {},
   "source": [
    "<a id=\"objetos\"></a>\n",
    "## 2.F [Objetos e classes](https://docs.python.org/3/reference/datamodel.html#objects-values-and-types)\n",
    "\n",
    "Objetos são variáveis que\n",
    "\n",
    "1. Armazenam e dão acesso a dados com estrutura arbitrária, muitas vezes complexa\n",
    "2. Associam esses dados a funções especializadas, chamadas [métodos](#metodos)\n",
    "\n",
    "Um objeto pode, por exemplo, ser composto de uma combinação de listas e dicionários voltada para representar objetos reais complexos, como moléculas ou células.\n",
    "\n",
    "Diferem, portanto, dos tipos de valores definidos pelo própria linguagem e, efetivamente, extendem a linguagem para outros tipos de dados.\n",
    "\n",
    "Dois conceitos fundamentais são fundamentais para se entender o conceito de objetos em Python: os [métodos]() e [atributos]() de um objeto.\n",
    "\n",
    "Os métodos e atributos de um objeto são definidos pelo [código Python](#modulos) que implementa sua [classe](https://docs.python.org/3/tutorial/classes.html).\n",
    "\n",
    ">__Nota__\n",
    ">\n",
    ">Em python, todas os valores são objetos de alguma classe.\n",
    "\n",
    "<a id=\"atributos\"></a>\n",
    "### 2.F.a Atributos\n",
    "Atributos são variáveis que permitem o acesso aos dados armazenados no objeto. Um atributo é normalmente acessado usando o nome do objeto e o nome do atributo, unidos por um ponto (`.`).\n",
    "\n",
    "Para um exemplo simples, consideremos um número real. Em Python, um número real é um objeto da classe `float`:"
   ]
  },
  {
   "cell_type": "code",
   "execution_count": null,
   "metadata": {},
   "outputs": [],
   "source": [
    "a = 10.5\n",
    "a.imag"
   ]
  },
  {
   "cell_type": "markdown",
   "metadata": {},
   "source": [
    "O atributo `imag`, para objetos da classe `float` e `complex`, corresponde à parte imaginária de um número real, que nesse caso é zero pois $10.5 = 10.5 + 0.0*i$.\n",
    "\n",
    "<a id=\"metodos\"></a>\n",
    "### 2.F.b [Métodos](https://docs.python.org/3/library/stdtypes.html#methods)\n",
    "Métodos são funções atreladas à estrutura de dados contida no objeto e acessíveis somente através do objeto.\n",
    "\n",
    "Métodos são desenhadas especificamente para trabalhar com os dados armazenados nos atributos de um objeto, sem interferir com outros objetos, da mesma ou de outra classe.\n",
    "\n",
    "O acesso aos métodos é similar ao dos [atributos](#atributos), ou seja, é feito usando o nome do objeto e o nome do método, unidos por um ponto (`.`). Porém, como são funções, o acesso aos métodos exige o uso de parentêses:"
   ]
  },
  {
   "cell_type": "code",
   "execution_count": null,
   "metadata": {},
   "outputs": [],
   "source": [
    "a = 'atgaaaagtgggccc'\n",
    "a.upper()"
   ]
  },
  {
   "cell_type": "markdown",
   "metadata": {},
   "source": [
    "<a id=\"modulos\"></a>\n",
    "### 2.F.c [Módulos](#https://docs.python.org/3/glossary.html#term-module)\n",
    "\n",
    "Módulos ou pacotes são __arquivos__ contendo código Python.\n",
    "\n",
    "Módulos podem servir\n",
    "\n",
    "* Como agregadores de funções relacionadas\n",
    "* Para definir e organizar classes usando a palavra [`class`](https://docs.python.org/3/reference/compound_stmts.html#class-definitions).\n",
    "\n",
    "Uma vez carregado pelo Python, um módulo passa a ser tratado como um objeto da classe `modulo` e o acesso a seus métodos e atributos permitem o uso das classes e funcões nele definidas.\n",
    "\n",
    "Para carregar módulos usamos a palavra `import`:"
   ]
  },
  {
   "cell_type": "code",
   "execution_count": null,
   "metadata": {},
   "outputs": [],
   "source": [
    "import math"
   ]
  },
  {
   "cell_type": "markdown",
   "metadata": {},
   "source": [
    "e podemos ver qual arquivo foi carregado com o atributo especial `__file__`:"
   ]
  },
  {
   "cell_type": "code",
   "execution_count": null,
   "metadata": {},
   "outputs": [],
   "source": [
    "math.__file__"
   ]
  },
  {
   "cell_type": "markdown",
   "metadata": {},
   "source": [
    "e acessar os atributos do módulo:"
   ]
  },
  {
   "cell_type": "code",
   "execution_count": null,
   "metadata": {},
   "outputs": [],
   "source": [
    "math.e"
   ]
  },
  {
   "cell_type": "markdown",
   "metadata": {},
   "source": [
    "e seus métodos:"
   ]
  },
  {
   "cell_type": "code",
   "execution_count": null,
   "metadata": {},
   "outputs": [],
   "source": [
    "math.cos(math.pi)"
   ]
  },
  {
   "cell_type": "markdown",
   "metadata": {},
   "source": [
    "<a id=\"objeto_exemplo\"></a>\n",
    "#### 2.F.d Exemplo biológico\n",
    "\n",
    "Como exemplo de utilização de módulos e classes para análise de dados biológicos, consideremos o problema de traduzir a sequência de DNA com a qual vínhamos trabalhando (ATGAAAAGTGGGCCC).\n",
    "\n",
    "O pacote BioPython inclui classes capazes de traduzir sequências de DNA."
   ]
  },
  {
   "cell_type": "code",
   "execution_count": null,
   "metadata": {},
   "outputs": [],
   "source": [
    "from Bio.Seq import Seq\n",
    "s = Seq(\"ATGAAAAGTGGGCCC\")\n",
    "str(s.translate())"
   ]
  },
  {
   "cell_type": "markdown",
   "metadata": {},
   "source": [
    "O exemplo acima ilustra como o uso de bibliotecas de uso livre, que são abundantes na linguagem Python, permite acelerar a solução de problemas pela reutilização de código contribuído por outros autores.\n",
    "\n",
    "Esse exemplo será melhor explicado na parte 3 da aula, onde introduzimos as funções básicas do Biopython.\n",
    "\n",
    "<a id=\"arquivos\"></a>\n",
    "### 2.G Arquivos\n",
    "\n",
    "Arquivos podem ser acessados em Python usando a função `open()`.\n",
    "\n",
    "Essa função constrói um objeto que permite carregar o conteúdo do arquivo na memória do programa:"
   ]
  },
  {
   "cell_type": "code",
   "execution_count": null,
   "metadata": {},
   "outputs": [],
   "source": [
    "f = open(\"t1.tsv\", \"r\")\n",
    "for r in f:\n",
    "    print(r)\n",
    "f.close()"
   ]
  },
  {
   "cell_type": "markdown",
   "metadata": {},
   "source": [
    "O segundo parâmetro da função `open()` define se o arquivo será aberto somente para leitura (`'r'`), somente para escrita (`'w'`) ou para leitura e escrita (`'rw'`).\n",
    "\n",
    "Na última linha, seguindo uma boa prática de programação, fechamos o arquivo após terminarmos seu processamento, evitando acumular um grande número de arquivos abertos."
   ]
  },
  {
   "cell_type": "markdown",
   "metadata": {},
   "source": [
    "\n",
    "<a id=\"notas\"></a>\n",
    "## 3. Notas\n",
    "\n",
    "* A instalação de bibliotecas externas de Python não é necessária nesse curso mas pode ser feita, na maioria dos casos, a partir do [Python Package Index](https://pypi.org/), usando o comando [`pip`](https://docs.python.org/3/installing/index.html#basic-usage).\n",
    "* Sempre é possível aprender mais sobre um objeto usando o `help()`:"
   ]
  },
  {
   "cell_type": "code",
   "execution_count": null,
   "metadata": {},
   "outputs": [],
   "source": [
    "help('Bio.SeqRecord')"
   ]
  }
 ],
 "metadata": {
  "kernelspec": {
   "display_name": "Python 3",
   "language": "python",
   "name": "python3"
  },
  "language_info": {
   "codemirror_mode": {
    "name": "ipython",
    "version": 3
   },
   "file_extension": ".py",
   "mimetype": "text/x-python",
   "name": "python",
   "nbconvert_exporter": "python",
   "pygments_lexer": "ipython3",
   "version": "3.7.5"
  }
 },
 "nbformat": 4,
 "nbformat_minor": 2
}
