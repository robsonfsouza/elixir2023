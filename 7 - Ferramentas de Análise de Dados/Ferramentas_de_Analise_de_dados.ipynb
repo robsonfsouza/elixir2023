{
 "cells": [
  {
   "cell_type": "markdown",
   "metadata": {},
   "source": [
    "# Ferramentas de análise de dados\n",
    "\n",
    "## Tópicos\n",
    "\n",
    "1. [Objetivos da aula](#objetivos)\n",
    "2. [Preparando o ambiente de trabalho](#preparando)\n",
    "    1. [Instruções e comandos](#comandos)\n",
    "3. [Ferramentas usadas nessa aula](#ferramentas)\n",
    "    1. [Jupyter](#jupyter)\n",
    "    2. [IPython](#ipython)\n",
    "    3. [MarkDown](#markdown)\n",
    "4. [Links úteis](#links)\n",
    "5. [Outros comandos no Jupyter e/ou IPython](#maiscomandos)"
   ]
  },
  {
   "cell_type": "markdown",
   "metadata": {},
   "source": [
    "<a id=\"objetivos\"></a>\n",
    "## 1. Objetivo da aula\n",
    "\n",
    "Existe uma grande quantidade de pacotes, escritos na linguagem Python, capazes de representar e analisar dados complexos, biológicos ou não.\n",
    "\n",
    "Nessa aula, nosso objetivo é aprender como usar algumas dessas bibliotecas e, no processo, esperamos que os alunos aprendam como usar o [Jupyter Notebook](#jupyter) e o Python como ferramentas poderosas para análise de dados.\n",
    "\n",
    "Nosso foco, portanto, estará não na programação necessária para implementar objetos ou outros exemplos de código complexo em Python, mas em como utilizá-los.\n",
    "\n",
    "Em especial, aprenderemos a executar tarefas básicas no [Jupyter NoteBook](#jupyter) e com a biblioteca [Pandas](https://pandas.pydata.org/).\n",
    "\n",
    "A aula foi dividida em quatro partes:\n",
    "\n",
    "1. Revisão da linguagem Python no Jupyter NoteBook ([Parte1](Parte1_Revisao_Python.ipynb))\n",
    "2. Introdução à biblioteca Pandas e exemplos de análise de dados ([Parte2](Parte2_Introducao_Pandas.ipynb))\n",
    "3. __Opcional__: introdução ao [BioPython](https://biopython.org/) ([Parte3](Parte3_Introducao_Biopython.ipynb))\n",
    "4. [Exercício prático](Exercicio_Pratico.ipynb)\n",
    "\n",
    "A terceira parte, mais avançada, __é opcional__ e mostra como integrar BioPython, Pandas e outras ferramentas na análise de dados de sequências biológicas."
   ]
  },
  {
   "cell_type": "markdown",
   "metadata": {},
   "source": [
    "<a id=\"preparando\"></a>\n",
    "## 2. Preparando o ambiente de trabalho\n",
    "\n",
    "Como em outra aulas desse curso, vamos usar a linha de comando (*shell*) para iniciar nosso ambiente de trabalho e, em seguida, iniciaremos e migraremos para o ambiente Jupyter NoteBook."
   ]
  },
  {
   "cell_type": "markdown",
   "metadata": {},
   "source": [
    "<a id=\"comandos\"></a>\n",
    "### 2.A. Instruções e comandos\n",
    "\n",
    "Para preparar o diretório de trabalho dessa aula, siga as instruções abaixo:\n",
    "\n",
    "1. Acesse sua conta nos nossos servidores virtuais usando o [X2Go](https://youtu.be/uGzVO5fb9yQ)\n",
    "\n",
    "\n",
    "2. Completado o acesso, abra um terminal, [como mostrado no tutorial de Linux](https://youtu.be/eKbA0xt4114), ou seja, no menu \"Applications > System Tools > Mate Terminal\".\n",
    "\n",
    "\n",
    "3. No terminal, crie um diretório chamado `analise`, usando os comandos:\n",
    "\n",
    ">`mkdir analise\n",
    "cd analise\n",
    "`\n",
    "\n",
    "4. __Copie__ todos os arquivos usados nessa aula para o diretório corrente:\n",
    "\n",
    ">`cp /databases/courses/bmp0216/2020/analise/* .`\n",
    "\n",
    "5. __Inicie o Jupyter__\n",
    "\n",
    ">`jupyter-notebook`\n",
    "\n",
    "    Com a execução do comando acima, uma série de mensagens aparecerá no terminal.\n",
    "\n",
    "    No fim dessas mensagens, aparece o endereço da página web onde o Jupyter pode ser acessado, por exemplo:\n",
    "\n",
    ">`    To access the notebook, open this file in a browser:<br>\n",
    ">        file:///home/rfsouza/.local/share/jupyter/runtime/nbserver-21289-open.html<br>\n",
    ">    Or copy and paste one of these URLs:<br>\n",
    ">        http://localhost:8888/?token=5cbe8d6bb70b828390bea08952b235b2a6eee395af82fd27<br>\n",
    ">     or http://127.0.0.1:8888/?token=5cbe8d6bb70b828390bea08952b235b2a6eee395af82fd27`\n",
    "\n",
    "    Note que as duas últimas linhas fornecem o endereço da página onde o Jupyter pode ser acessado com um navegador e incluem o *token* (senha) de autenticação.\n",
    "\n",
    "    No entanto, __na maioria dos casos__, não será necessário copiar o endereço mostrado, pois o próprio Jupyter já abre um navegador no endereço certo.\n",
    "\n",
    "\n",
    "6. __Quando a janela do navegador abrir__, você verá a lista de arquivos no diretório onde o Jupyter foi iniciado. Clique na versão *notebook* deste documento ([`Ferramentas de Analise de dados.ipynb`](Ferramentas_de Analise_de_dados.ipynb)) e continua seguindo as instruções na nova janela de seu navegador.\n",
    "\n",
    "\n",
    "7. Após completar a revisão de Python ([Parte1](Parte1_Revisao_Python.ipynb)), abra o notebook da próxima parte da aula, que cobre a biblioteca Pandas ([Parte2](Parte2_Introducao_Pandas.ipynb))\n",
    "\n",
    "\n",
    "8. Os mais aventurados, podem se aprofundar com uma introdução à biblioteca Biopython e em como usá-la com Pandas ([Parte3](Parte3_Introducao_Biopython.ipynb))\n",
    "\n",
    "9. As instruções para o exercício prático encontram-se no *notebook* [Exercício Prático](Exercicio_Pratico.ipynb)\n",
    "\n",
    "Uma vez aberto, cada notebook contém toda a informação correspondente àquela parte da aula, incluindo o caminho para os arquivos com dados e os comandos usados para processamento.\n",
    "\n",
    "Cada notebook deve ser executado comando a comando, avaliando e interpretando as saídas e resultados.\n",
    "\n",
    "O estudante é encorajado a adicionar novas célualas para fazer testes em comandos que possam não estar completamente claros e a discutir suas variações com os demais estudantes no Fórum dessa aula.\n",
    "\n",
    "A solução dos problemas propostos no exercício prático devem ser __salvas na sua cópia do *notebook*__ [Exercício Prático](Exercicio_Pratico.ipynb)."
   ]
  },
  {
   "cell_type": "markdown",
   "metadata": {},
   "source": [
    "<a id=\"ferramentas\"></a>\n",
    "## 3. Ferramentas usadas nessa aula\n",
    "\n",
    "<a id=\"jupyter\"></a>\n",
    "### 3.A. Jupyter NoteBook\n",
    "\n",
    "O [Jupyter NoteBook](https://jupyter.org/) é um *software* que permite ao usuário criar e compartilhar documentos contendo:\n",
    "\n",
    "* código executável\n",
    "* equações\n",
    "* visualizações\n",
    "* texto narrativo\n",
    "\n",
    "Suas aplicações incluem\n",
    "\n",
    "* pré-processamento, limpeza e transformação de dados\n",
    "* simulações numéricas\n",
    "* modelagem estatística\n",
    "* visualização de dados\n",
    "* aprendizado de máquina\n",
    "* muitas outras!\n",
    "\n",
    "O Jupyter Notebook é um aplicativo *web*, ou seja, um programa cuja interface com o usuário é uma ou mais páginas *Web*. Essas páginas são normalmente acessadas usando navegadores (*browsers*), tais como Firefox, Google Chrome e outros.\n",
    "\n",
    "Embora, nesse curso, o Jupyter NoteBook seja usado apenas com a linguagem Python, esse *software* também suporta [outras linguagens de programação](https://github.com/jupyter/jupyter/wiki/Jupyter-kernels) (*i.e.* outros [*kernels*](https://jupyter.readthedocs.io/en/latest/projects/kernels.html)), tais como R, Julia e Scala."
   ]
  },
  {
   "cell_type": "markdown",
   "metadata": {},
   "source": [
    "<a id=\"ipython\"></a>\n",
    "### 3.B. IPython\n",
    "\n",
    "[Interactive Python](https://ipython.org/) é uma infraestrutura que extende a linguagem Python, tornando mais fácil seu uso interativo.\n",
    "\n",
    "O IPython inclui:\n",
    "\n",
    "* uma interface de linha de comando que é superior à interface de linha de comando padrão da linguagem Python\n",
    "* o *kernel* (núcleo) de Python para o Jupyter Notebook"
   ]
  },
  {
   "cell_type": "markdown",
   "metadata": {},
   "source": [
    "<a id=\"markdown\"></a>\n",
    "### 3.C. Markdown\n",
    "\n",
    "O Jupyter suporta a inserção de textos narrativos entre os comandos executáveis. As células com texto podem ser ricamente formatadas usando [MarkDown](https://daringfireball.net/projects/markdown/), uma linguagem de formatação de documentos extremamente simples e muito fácil de aprender.\n",
    "\n",
    "Esse documento foi criado no Jupyter usando MarkDown."
   ]
  },
  {
   "cell_type": "markdown",
   "metadata": {},
   "source": [
    "<a id=\"links\"></a>\n",
    "## 4. Links úteis\n",
    "\n",
    "[Markdown para Jupyter](https://medium.com/ibm-data-science-experience/markdown-for-jupyter-notebooks-cheatsheet-386c05aeebed): guia rápido de comandos básicos."
   ]
  },
  {
   "cell_type": "markdown",
   "metadata": {},
   "source": [
    "<a id=\"maiscomandos\"></a>\n",
    "## 5. Outros comandos e recursos no Jupyter e/ou IPython\n",
    "\n",
    "O IPython, como interface interativa, incorpora algumas funções da *shell* (linha de comando), incluindo a capacidade de executar certos comandos de forma transparente. O Jupyter herda do IPython esses recursos.\n",
    "\n",
    "* Informar qual o diretório de trabalho atual deste *notebook*"
   ]
  },
  {
   "cell_type": "code",
   "execution_count": null,
   "metadata": {},
   "outputs": [],
   "source": [
    "pwd"
   ]
  },
  {
   "cell_type": "markdown",
   "metadata": {},
   "source": [
    "* Mudar o diretório de trabalho __apenas para este *notebook*__"
   ]
  },
  {
   "cell_type": "code",
   "execution_count": null,
   "metadata": {},
   "outputs": [],
   "source": [
    "cd .."
   ]
  },
  {
   "cell_type": "code",
   "execution_count": null,
   "metadata": {},
   "outputs": [],
   "source": [
    "pwd"
   ]
  },
  {
   "cell_type": "markdown",
   "metadata": {},
   "source": [
    "* Listar arquivos e diretórios:"
   ]
  },
  {
   "cell_type": "code",
   "execution_count": null,
   "metadata": {},
   "outputs": [],
   "source": [
    "ls"
   ]
  },
  {
   "cell_type": "markdown",
   "metadata": {},
   "source": [
    "e voltamos ao diretório análise (veja se o nome do seu diretório é o mesmo!):"
   ]
  },
  {
   "cell_type": "code",
   "execution_count": null,
   "metadata": {},
   "outputs": [],
   "source": [
    "cd análise"
   ]
  },
  {
   "cell_type": "code",
   "execution_count": null,
   "metadata": {},
   "outputs": [],
   "source": [
    "pwd"
   ]
  },
  {
   "cell_type": "markdown",
   "metadata": {},
   "source": [
    "* Imprimir o conteúdo de um arquivo"
   ]
  },
  {
   "cell_type": "code",
   "execution_count": null,
   "metadata": {},
   "outputs": [],
   "source": [
    "cat t1.tsv"
   ]
  },
  {
   "cell_type": "markdown",
   "metadata": {},
   "source": [
    "* Comandos da *shell* que não são suportados diretamente pelo IPython podem ser executados usando o ponto de exclamação:"
   ]
  },
  {
   "cell_type": "code",
   "execution_count": null,
   "metadata": {},
   "outputs": [],
   "source": [
    "!whoami"
   ]
  },
  {
   "cell_type": "markdown",
   "metadata": {},
   "source": [
    "e o resultado impresso por esses comandos na saída padrão (*stdout*) pode ser assinalado a uma variável:"
   ]
  },
  {
   "cell_type": "code",
   "execution_count": null,
   "metadata": {},
   "outputs": [],
   "source": [
    "a = !whoami\n",
    "a"
   ]
  },
  {
   "cell_type": "markdown",
   "metadata": {},
   "source": [
    "O Jupyter inclui ainda um terminal idêntico aos terminais para Linux e do Mac OS ou a programas como MobaXTerm ou Putty.\n",
    "\n",
    "O terminal do Jupyter pode ser acessado a partir da página inicial do Jupyter, no menu *New*, item *Terminal*."
   ]
  }
 ],
 "metadata": {
  "kernelspec": {
   "display_name": "Python 3",
   "language": "python",
   "name": "python3"
  },
  "language_info": {
   "codemirror_mode": {
    "name": "ipython",
    "version": 3
   },
   "file_extension": ".py",
   "mimetype": "text/x-python",
   "name": "python",
   "nbconvert_exporter": "python",
   "pygments_lexer": "ipython3",
   "version": "3.7.5"
  }
 },
 "nbformat": 4,
 "nbformat_minor": 2
}
