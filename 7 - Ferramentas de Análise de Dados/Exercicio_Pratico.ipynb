{
 "cells": [
  {
   "cell_type": "markdown",
   "metadata": {},
   "source": [
    "# Ferramentas de Análise de Dados (Exercício Prático)\n",
    "\n",
    "Instruções:\n",
    "\n",
    "1. Insira e salve seu código dentro deste notebook\n",
    "2. Execute o código e salve o notebook com o resultado\n",
    "3. Responda às questões no formulário online do site da disciplina\n",
    "\n",
    ">__Nota__: Fique à vontade para adicionar células novas ao *notebook*.\n",
    "\n",
    "## Tópicos\n",
    "\n",
    "1. [Revisão Python: escreva uma função](#dados_ep1)\n",
    "2. [Introdução Pandas: cruzando tabelas e agrupando](#dados_ep2)"
   ]
  },
  {
   "cell_type": "markdown",
   "metadata": {},
   "source": [
    "<a id=\"dados_ep1\"></a>\n",
    "## 1. Revisão Python: escreva uma função\n",
    "\n",
    "Escreva uma [função](#Parte1_Revisao_Python.ipynb#funcoes) que, dada uma sequência de DNA, calcule os valores do *GC skew* __para todos os fragmentos__ de 10 nucleotídeos, sem sobreposição dos fragmentos.\n",
    "\n",
    "### Detalhes:\n",
    "\n",
    "O *GC skew* é definido pela fórmula\n",
    "\n",
    "$GC_{skew} = (G - C) / (G + C)$\n",
    "\n",
    "onde $G$ é o número de guaninas e $C$ é o número de citosinas.\n",
    "\n",
    "Para a sequência\n",
    "\n",
    "<pre>\n",
    "TCAGTTCAAGTCCCCCCCCTCGCACCAACGAGGCAATATCTCAAAGAAAGAATACTGTGCGAAGGTGGCGGAATTGGTAGACGCCAT\n",
    "</pre>\n",
    "\n",
    "os fragmentos a cada 10 nucleotídeos, sem sobreposição, correpondem a \n",
    "\n",
    "<pre>\n",
    "0          | 10         | 20         | ... | 70         | 80\n",
    "TCAGTTCAAG | TCCCCCCCCT | CGCACCAACG | ... | GAATTGGTAG | ACGCCAT`\n",
    "</pre>\n",
    "\n",
    "onde `...` representa os fragmentos de 30 a 69, que foram omitidos.\n",
    "\n",
    "### Pergunta:\n",
    "\n",
    "Seguindo o padrão da indexação de váriáveis texto no Python, onde a primeira posição de um valor texto, como a sequência de DNA acima, é 0, a segunda 1 e assim por diante, responda:\n",
    "\n",
    "* Qual o __valor do $GC_{skew}$__ para o fragmento de 10 nucleotídeos iniciado __na posição 60__ da sequência de DNA mostrada acima?__\n",
    "\n",
    ">__Para entrega do resultado__:\n",
    ">\n",
    ">1. Use a sequência acima, completa, como entrada da sua [função](Parte1_Revisao_Python.ipynb#funcoes)\n",
    ">\n",
    ">2. Use a célula abaixo para implementar sua solução e __salve o notebook com os resultados__\n",
    ">\n",
    "\n",
    ">3. Acesse o site do e-disciplinas e responda a questão usando os resultados do seu código"
   ]
  },
  {
   "cell_type": "markdown",
   "metadata": {},
   "source": [
    "<a id=\"dados_ep2\"></a>\n",
    "## 2. Introdução Pandas: cruzando tabelas e agrupando\n",
    "\n",
    "Nesse exercício, vamos continuar explorando a distribuição de genes similares a genes de resistência a antibióticos e a outros tipos de estresse nos *contigs* da montagem do genoma de *Klebsiella pneumoniae KPNIH39*.\n",
    "\n",
    "Instruções:\n",
    "\n",
    "1. Usando o Pandas, carregue as seguintes tabelas:\n",
    "    1. `kpneu-contigs.tsv`: comprimento dos contigs de KPNIH39 (colunas: id do contig e seu comprimento)\n",
    "    2. `kpneu.tblastn.tsv`: resultados da análise de TBLASTN (colunas com cabeçalho, ver [Parte 2](Parte2_Introducao_Pandas.ipynb#exemplo1))\n",
    "    3. `genes.txt`: descrição da função dos 46 genes de resistência (proteína e função)\n",
    "    4. `genes.tsv`: comprimento das proteínas (colunas: proteína e comprimento)\n",
    "    \n",
    ">__Nota__:\n",
    ">\n",
    ">Não esqueça de usar o parâmetro `sep=\"\\t\"`, do método `read_csv()`, para garantir que as tabulações sejam reconhecidas como separadores de colunas.\n",
    ">\n",
    ">Se quiser saber como as tabelas acima foram geradas, veja o script [source1.sh](source1.sh).\n",
    "\n",
    "2. __IMPORTANTE__: depois de carregar as quatro tabelas em quatro Pandas DataFrames, filtre as linhas do DataFrame correspondente ao resultado de TBLASTN (B), mantendo apenas as linhas onde a coluna `pident` é maior que 90 (identidade > 90).\n",
    "\n",
    "\n",
    "3. Aplique uma combinação dos métodos `groupby()`, `merge()` e `max()` para responder a questão no site do e-disciplinas.\n",
    "\n",
    ">__Nota__: o passo 1 já está implementados na célula abaixo (linhas começando em \"#\" são comentários)."
   ]
  },
  {
   "cell_type": "code",
   "execution_count": null,
   "metadata": {},
   "outputs": [],
   "source": [
    "# Load\n",
    "import pandas as pd\n",
    "clen = pd.read_csv(\"kpneu-contigs.tsv\", sep=\"\\t\", names=['contig','clen'])\n",
    "tb = pd.read_csv(\"kpneu.tblastn.tsv\", sep=\"\\t\")\n",
    "g = pd.read_csv(\"genes.txt\", sep=\"\\t\", names=['protein','annotation'])\n",
    "plen = pd.read_csv(\"genes.tsv\", sep=\"\\t\", names=['protein','plen'])"
   ]
  },
  {
   "cell_type": "code",
   "execution_count": null,
   "metadata": {},
   "outputs": [],
   "source": []
  }
 ],
 "metadata": {
  "kernelspec": {
   "display_name": "Python 3",
   "language": "python",
   "name": "python3"
  },
  "language_info": {
   "codemirror_mode": {
    "name": "ipython",
    "version": 3
   },
   "file_extension": ".py",
   "mimetype": "text/x-python",
   "name": "python",
   "nbconvert_exporter": "python",
   "pygments_lexer": "ipython3",
   "version": "3.7.5"
  }
 },
 "nbformat": 4,
 "nbformat_minor": 2
}
